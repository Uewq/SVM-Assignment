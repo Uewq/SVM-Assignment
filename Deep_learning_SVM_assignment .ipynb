{
 "cells": [
  {
   "cell_type": "code",
   "execution_count": 1,
   "id": "1c15a08c",
   "metadata": {},
   "outputs": [],
   "source": [
    "import pandas as pd"
   ]
  },
  {
   "cell_type": "code",
   "execution_count": 2,
   "id": "6ce8e4f8",
   "metadata": {},
   "outputs": [],
   "source": [
    "file = pd.read_csv(r\"C:\\Users\\USER\\OneDrive\\Desktop\\COVIDSenti-A.csv\")"
   ]
  },
  {
   "cell_type": "code",
   "execution_count": 3,
   "id": "0b93af4e",
   "metadata": {},
   "outputs": [
    {
     "data": {
      "text/html": [
       "<div>\n",
       "<style scoped>\n",
       "    .dataframe tbody tr th:only-of-type {\n",
       "        vertical-align: middle;\n",
       "    }\n",
       "\n",
       "    .dataframe tbody tr th {\n",
       "        vertical-align: top;\n",
       "    }\n",
       "\n",
       "    .dataframe thead th {\n",
       "        text-align: right;\n",
       "    }\n",
       "</style>\n",
       "<table border=\"1\" class=\"dataframe\">\n",
       "  <thead>\n",
       "    <tr style=\"text-align: right;\">\n",
       "      <th></th>\n",
       "      <th>tweet</th>\n",
       "      <th>label</th>\n",
       "    </tr>\n",
       "  </thead>\n",
       "  <tbody>\n",
       "    <tr>\n",
       "      <th>0</th>\n",
       "      <td>Coronavirus | Human Coronavirus Types | CDC ht...</td>\n",
       "      <td>neu</td>\n",
       "    </tr>\n",
       "    <tr>\n",
       "      <th>1</th>\n",
       "      <td>@shehryar_taseer That‚Äôs üíØ true , \\nCorona...</td>\n",
       "      <td>neu</td>\n",
       "    </tr>\n",
       "    <tr>\n",
       "      <th>2</th>\n",
       "      <td>TLDR: Not SARS, possibly new coronavirus. Diff...</td>\n",
       "      <td>neg</td>\n",
       "    </tr>\n",
       "    <tr>\n",
       "      <th>3</th>\n",
       "      <td>Disease outbreak news from the WHO: Middle Eas...</td>\n",
       "      <td>neu</td>\n",
       "    </tr>\n",
       "    <tr>\n",
       "      <th>4</th>\n",
       "      <td>China - Media: WSJ says sources tell them myst...</td>\n",
       "      <td>neu</td>\n",
       "    </tr>\n",
       "    <tr>\n",
       "      <th>5</th>\n",
       "      <td>The mystery new virus causing #China pneumonia...</td>\n",
       "      <td>neu</td>\n",
       "    </tr>\n",
       "    <tr>\n",
       "      <th>6</th>\n",
       "      <td>Virologists weigh in on novel coronavirus in C...</td>\n",
       "      <td>neu</td>\n",
       "    </tr>\n",
       "    <tr>\n",
       "      <th>7</th>\n",
       "      <td>\"Chinese authorities have made a preliminary d...</td>\n",
       "      <td>neu</td>\n",
       "    </tr>\n",
       "    <tr>\n",
       "      <th>8</th>\n",
       "      <td>@tezuma75 Why #CCP keep on saying unknown caus...</td>\n",
       "      <td>neg</td>\n",
       "    </tr>\n",
       "    <tr>\n",
       "      <th>9</th>\n",
       "      <td>Chinese report says mysterious illnesses may b...</td>\n",
       "      <td>neu</td>\n",
       "    </tr>\n",
       "    <tr>\n",
       "      <th>10</th>\n",
       "      <td>China identifies new strain of coronavirus as ...</td>\n",
       "      <td>neu</td>\n",
       "    </tr>\n",
       "    <tr>\n",
       "      <th>11</th>\n",
       "      <td>I always feel weird hoping for another coronav...</td>\n",
       "      <td>neg</td>\n",
       "    </tr>\n",
       "    <tr>\n",
       "      <th>12</th>\n",
       "      <td>Mystery illness in China traced to new SARS-fa...</td>\n",
       "      <td>neu</td>\n",
       "    </tr>\n",
       "    <tr>\n",
       "      <th>13</th>\n",
       "      <td>Wuhan pneumonia outbreak: Mystery illness 'cau...</td>\n",
       "      <td>neu</td>\n",
       "    </tr>\n",
       "    <tr>\n",
       "      <th>14</th>\n",
       "      <td>CDC health advisory about the Chinese coronavi...</td>\n",
       "      <td>neu</td>\n",
       "    </tr>\n",
       "    <tr>\n",
       "      <th>15</th>\n",
       "      <td>The new coronavirus identified by Chinese scie...</td>\n",
       "      <td>neu</td>\n",
       "    </tr>\n",
       "    <tr>\n",
       "      <th>16</th>\n",
       "      <td>@KariDebbink @Vineet321 The Frieman Scary Scal...</td>\n",
       "      <td>neg</td>\n",
       "    </tr>\n",
       "    <tr>\n",
       "      <th>17</th>\n",
       "      <td>Genome sequence of the new coronavirus associa...</td>\n",
       "      <td>neu</td>\n",
       "    </tr>\n",
       "    <tr>\n",
       "      <th>18</th>\n",
       "      <td>Crap, a quick blast search suggests the Wuhan ...</td>\n",
       "      <td>neg</td>\n",
       "    </tr>\n",
       "    <tr>\n",
       "      <th>19</th>\n",
       "      <td>.@hayesluk summarises novel coronavirus lab fi...</td>\n",
       "      <td>neu</td>\n",
       "    </tr>\n",
       "  </tbody>\n",
       "</table>\n",
       "</div>"
      ],
      "text/plain": [
       "                                                tweet label\n",
       "0   Coronavirus | Human Coronavirus Types | CDC ht...   neu\n",
       "1   @shehryar_taseer That‚Äôs üíØ true , \\nCorona...   neu\n",
       "2   TLDR: Not SARS, possibly new coronavirus. Diff...   neg\n",
       "3   Disease outbreak news from the WHO: Middle Eas...   neu\n",
       "4   China - Media: WSJ says sources tell them myst...   neu\n",
       "5   The mystery new virus causing #China pneumonia...   neu\n",
       "6   Virologists weigh in on novel coronavirus in C...   neu\n",
       "7   \"Chinese authorities have made a preliminary d...   neu\n",
       "8   @tezuma75 Why #CCP keep on saying unknown caus...   neg\n",
       "9   Chinese report says mysterious illnesses may b...   neu\n",
       "10  China identifies new strain of coronavirus as ...   neu\n",
       "11  I always feel weird hoping for another coronav...   neg\n",
       "12  Mystery illness in China traced to new SARS-fa...   neu\n",
       "13  Wuhan pneumonia outbreak: Mystery illness 'cau...   neu\n",
       "14  CDC health advisory about the Chinese coronavi...   neu\n",
       "15  The new coronavirus identified by Chinese scie...   neu\n",
       "16  @KariDebbink @Vineet321 The Frieman Scary Scal...   neg\n",
       "17  Genome sequence of the new coronavirus associa...   neu\n",
       "18  Crap, a quick blast search suggests the Wuhan ...   neg\n",
       "19  .@hayesluk summarises novel coronavirus lab fi...   neu"
      ]
     },
     "execution_count": 3,
     "metadata": {},
     "output_type": "execute_result"
    }
   ],
   "source": [
    "file.head(20)"
   ]
  },
  {
   "cell_type": "code",
   "execution_count": 4,
   "id": "75135d62",
   "metadata": {},
   "outputs": [
    {
     "data": {
      "text/plain": [
       "(30000, 2)"
      ]
     },
     "execution_count": 4,
     "metadata": {},
     "output_type": "execute_result"
    }
   ],
   "source": [
    "file.shape"
   ]
  },
  {
   "cell_type": "code",
   "execution_count": 5,
   "id": "51e0b325",
   "metadata": {},
   "outputs": [
    {
     "name": "stdout",
     "output_type": "stream",
     "text": [
      "<class 'pandas.core.frame.DataFrame'>\n",
      "RangeIndex: 30000 entries, 0 to 29999\n",
      "Data columns (total 2 columns):\n",
      " #   Column  Non-Null Count  Dtype \n",
      "---  ------  --------------  ----- \n",
      " 0   tweet   30000 non-null  object\n",
      " 1   label   30000 non-null  object\n",
      "dtypes: object(2)\n",
      "memory usage: 468.9+ KB\n"
     ]
    }
   ],
   "source": [
    "file.info()"
   ]
  },
  {
   "cell_type": "code",
   "execution_count": 6,
   "id": "0606af03",
   "metadata": {},
   "outputs": [
    {
     "data": {
      "text/html": [
       "<div>\n",
       "<style scoped>\n",
       "    .dataframe tbody tr th:only-of-type {\n",
       "        vertical-align: middle;\n",
       "    }\n",
       "\n",
       "    .dataframe tbody tr th {\n",
       "        vertical-align: top;\n",
       "    }\n",
       "\n",
       "    .dataframe thead th {\n",
       "        text-align: right;\n",
       "    }\n",
       "</style>\n",
       "<table border=\"1\" class=\"dataframe\">\n",
       "  <thead>\n",
       "    <tr style=\"text-align: right;\">\n",
       "      <th></th>\n",
       "      <th>tweet</th>\n",
       "      <th>label</th>\n",
       "    </tr>\n",
       "  </thead>\n",
       "  <tbody>\n",
       "    <tr>\n",
       "      <th>count</th>\n",
       "      <td>30000</td>\n",
       "      <td>30000</td>\n",
       "    </tr>\n",
       "    <tr>\n",
       "      <th>unique</th>\n",
       "      <td>29987</td>\n",
       "      <td>3</td>\n",
       "    </tr>\n",
       "    <tr>\n",
       "      <th>top</th>\n",
       "      <td>Copper price and coronavirus: ‚ÄúBlack swan li...</td>\n",
       "      <td>neu</td>\n",
       "    </tr>\n",
       "    <tr>\n",
       "      <th>freq</th>\n",
       "      <td>3</td>\n",
       "      <td>22949</td>\n",
       "    </tr>\n",
       "  </tbody>\n",
       "</table>\n",
       "</div>"
      ],
      "text/plain": [
       "                                                    tweet  label\n",
       "count                                               30000  30000\n",
       "unique                                              29987      3\n",
       "top     Copper price and coronavirus: ‚ÄúBlack swan li...    neu\n",
       "freq                                                    3  22949"
      ]
     },
     "execution_count": 6,
     "metadata": {},
     "output_type": "execute_result"
    }
   ],
   "source": [
    "file.describe()"
   ]
  },
  {
   "cell_type": "code",
   "execution_count": 7,
   "id": "5cf67cdd",
   "metadata": {},
   "outputs": [
    {
     "data": {
      "text/plain": [
       "neu    22949\n",
       "neg     5083\n",
       "pos     1968\n",
       "Name: label, dtype: int64"
      ]
     },
     "execution_count": 7,
     "metadata": {},
     "output_type": "execute_result"
    }
   ],
   "source": [
    "file.label.value_counts()"
   ]
  },
  {
   "cell_type": "code",
   "execution_count": 8,
   "id": "f28e1661",
   "metadata": {},
   "outputs": [
    {
     "data": {
      "text/plain": [
       "tweet    0\n",
       "label    0\n",
       "dtype: int64"
      ]
     },
     "execution_count": 8,
     "metadata": {},
     "output_type": "execute_result"
    }
   ],
   "source": [
    "file.isnull().sum()"
   ]
  },
  {
   "cell_type": "markdown",
   "id": "f7512be8",
   "metadata": {},
   "source": [
    "### Data Preprocessing"
   ]
  },
  {
   "cell_type": "code",
   "execution_count": 9,
   "id": "09a50260",
   "metadata": {},
   "outputs": [],
   "source": [
    "import re\n",
    "import nltk\n",
    "\n",
    "from nltk.tokenize import word_tokenize\n",
    "from string import punctuation\n",
    "from nltk.corpus import stopwords\n",
    "import numpy as np"
   ]
  },
  {
   "cell_type": "code",
   "execution_count": 10,
   "id": "0ca67fab",
   "metadata": {},
   "outputs": [],
   "source": [
    "stop_words = set(stopwords.words('english'))"
   ]
  },
  {
   "cell_type": "code",
   "execution_count": 19,
   "id": "39b18578",
   "metadata": {},
   "outputs": [],
   "source": [
    "def username(data):\n",
    "    data = re.sub(\"@[A-Za-z0-9_]+\",\"\", data) #Removing mentions\n",
    "    return data"
   ]
  },
  {
   "cell_type": "code",
   "execution_count": 20,
   "id": "8f506c6b",
   "metadata": {},
   "outputs": [
    {
     "data": {
      "text/html": [
       "<div>\n",
       "<style scoped>\n",
       "    .dataframe tbody tr th:only-of-type {\n",
       "        vertical-align: middle;\n",
       "    }\n",
       "\n",
       "    .dataframe tbody tr th {\n",
       "        vertical-align: top;\n",
       "    }\n",
       "\n",
       "    .dataframe thead th {\n",
       "        text-align: right;\n",
       "    }\n",
       "</style>\n",
       "<table border=\"1\" class=\"dataframe\">\n",
       "  <thead>\n",
       "    <tr style=\"text-align: right;\">\n",
       "      <th></th>\n",
       "      <th>tweet</th>\n",
       "      <th>usr-tweet</th>\n",
       "    </tr>\n",
       "  </thead>\n",
       "  <tbody>\n",
       "    <tr>\n",
       "      <th>0</th>\n",
       "      <td>Coronavirus | Human Coronavirus Types | CDC ht...</td>\n",
       "      <td>Coronavirus | Human Coronavirus Types | CDC ht...</td>\n",
       "    </tr>\n",
       "    <tr>\n",
       "      <th>1</th>\n",
       "      <td>@shehryar_taseer That‚Äôs üíØ true , \\nCorona...</td>\n",
       "      <td>That‚Äôs üíØ true , \\nCorona virus \\nswine f...</td>\n",
       "    </tr>\n",
       "    <tr>\n",
       "      <th>2</th>\n",
       "      <td>TLDR: Not SARS, possibly new coronavirus. Diff...</td>\n",
       "      <td>TLDR: Not SARS, possibly new coronavirus. Diff...</td>\n",
       "    </tr>\n",
       "    <tr>\n",
       "      <th>3</th>\n",
       "      <td>Disease outbreak news from the WHO: Middle Eas...</td>\n",
       "      <td>Disease outbreak news from the WHO: Middle Eas...</td>\n",
       "    </tr>\n",
       "    <tr>\n",
       "      <th>4</th>\n",
       "      <td>China - Media: WSJ says sources tell them myst...</td>\n",
       "      <td>China - Media: WSJ says sources tell them myst...</td>\n",
       "    </tr>\n",
       "    <tr>\n",
       "      <th>5</th>\n",
       "      <td>The mystery new virus causing #China pneumonia...</td>\n",
       "      <td>The mystery new virus causing #China pneumonia...</td>\n",
       "    </tr>\n",
       "    <tr>\n",
       "      <th>6</th>\n",
       "      <td>Virologists weigh in on novel coronavirus in C...</td>\n",
       "      <td>Virologists weigh in on novel coronavirus in C...</td>\n",
       "    </tr>\n",
       "    <tr>\n",
       "      <th>7</th>\n",
       "      <td>\"Chinese authorities have made a preliminary d...</td>\n",
       "      <td>\"Chinese authorities have made a preliminary d...</td>\n",
       "    </tr>\n",
       "    <tr>\n",
       "      <th>8</th>\n",
       "      <td>@tezuma75 Why #CCP keep on saying unknown caus...</td>\n",
       "      <td>Why #CCP keep on saying unknown cause of pneu...</td>\n",
       "    </tr>\n",
       "    <tr>\n",
       "      <th>9</th>\n",
       "      <td>Chinese report says mysterious illnesses may b...</td>\n",
       "      <td>Chinese report says mysterious illnesses may b...</td>\n",
       "    </tr>\n",
       "  </tbody>\n",
       "</table>\n",
       "</div>"
      ],
      "text/plain": [
       "                                               tweet  \\\n",
       "0  Coronavirus | Human Coronavirus Types | CDC ht...   \n",
       "1  @shehryar_taseer That‚Äôs üíØ true , \\nCorona...   \n",
       "2  TLDR: Not SARS, possibly new coronavirus. Diff...   \n",
       "3  Disease outbreak news from the WHO: Middle Eas...   \n",
       "4  China - Media: WSJ says sources tell them myst...   \n",
       "5  The mystery new virus causing #China pneumonia...   \n",
       "6  Virologists weigh in on novel coronavirus in C...   \n",
       "7  \"Chinese authorities have made a preliminary d...   \n",
       "8  @tezuma75 Why #CCP keep on saying unknown caus...   \n",
       "9  Chinese report says mysterious illnesses may b...   \n",
       "\n",
       "                                           usr-tweet  \n",
       "0  Coronavirus | Human Coronavirus Types | CDC ht...  \n",
       "1   That‚Äôs üíØ true , \\nCorona virus \\nswine f...  \n",
       "2  TLDR: Not SARS, possibly new coronavirus. Diff...  \n",
       "3  Disease outbreak news from the WHO: Middle Eas...  \n",
       "4  China - Media: WSJ says sources tell them myst...  \n",
       "5  The mystery new virus causing #China pneumonia...  \n",
       "6  Virologists weigh in on novel coronavirus in C...  \n",
       "7  \"Chinese authorities have made a preliminary d...  \n",
       "8   Why #CCP keep on saying unknown cause of pneu...  \n",
       "9  Chinese report says mysterious illnesses may b...  "
      ]
     },
     "execution_count": 20,
     "metadata": {},
     "output_type": "execute_result"
    }
   ],
   "source": [
    "file['usr-tweet'] = file['tweet'].apply(username)\n",
    "file[['tweet', 'usr-tweet']].head(10)"
   ]
  },
  {
   "cell_type": "code",
   "execution_count": 13,
   "id": "95355524",
   "metadata": {},
   "outputs": [],
   "source": [
    "def hashtag(data):\n",
    "    data = re.sub(\"#[A-Za-z0-9_]+\",\"\", data) #Removing hashtags\n",
    "    return data"
   ]
  },
  {
   "cell_type": "code",
   "execution_count": 21,
   "id": "cc359e0a",
   "metadata": {},
   "outputs": [
    {
     "data": {
      "text/html": [
       "<div>\n",
       "<style scoped>\n",
       "    .dataframe tbody tr th:only-of-type {\n",
       "        vertical-align: middle;\n",
       "    }\n",
       "\n",
       "    .dataframe tbody tr th {\n",
       "        vertical-align: top;\n",
       "    }\n",
       "\n",
       "    .dataframe thead th {\n",
       "        text-align: right;\n",
       "    }\n",
       "</style>\n",
       "<table border=\"1\" class=\"dataframe\">\n",
       "  <thead>\n",
       "    <tr style=\"text-align: right;\">\n",
       "      <th></th>\n",
       "      <th>tweet</th>\n",
       "      <th>hash-tweet</th>\n",
       "    </tr>\n",
       "  </thead>\n",
       "  <tbody>\n",
       "    <tr>\n",
       "      <th>0</th>\n",
       "      <td>Coronavirus | Human Coronavirus Types | CDC ht...</td>\n",
       "      <td>Coronavirus | Human Coronavirus Types | CDC ht...</td>\n",
       "    </tr>\n",
       "    <tr>\n",
       "      <th>1</th>\n",
       "      <td>@shehryar_taseer That‚Äôs üíØ true , \\nCorona...</td>\n",
       "      <td>That‚Äôs üíØ true , \\nCorona virus \\nswine f...</td>\n",
       "    </tr>\n",
       "    <tr>\n",
       "      <th>2</th>\n",
       "      <td>TLDR: Not SARS, possibly new coronavirus. Diff...</td>\n",
       "      <td>TLDR: Not SARS, possibly new coronavirus. Diff...</td>\n",
       "    </tr>\n",
       "    <tr>\n",
       "      <th>3</th>\n",
       "      <td>Disease outbreak news from the WHO: Middle Eas...</td>\n",
       "      <td>Disease outbreak news from the WHO: Middle Eas...</td>\n",
       "    </tr>\n",
       "    <tr>\n",
       "      <th>4</th>\n",
       "      <td>China - Media: WSJ says sources tell them myst...</td>\n",
       "      <td>China - Media: WSJ says sources tell them myst...</td>\n",
       "    </tr>\n",
       "    <tr>\n",
       "      <th>5</th>\n",
       "      <td>The mystery new virus causing #China pneumonia...</td>\n",
       "      <td>The mystery new virus causing  pneumonia outbr...</td>\n",
       "    </tr>\n",
       "    <tr>\n",
       "      <th>6</th>\n",
       "      <td>Virologists weigh in on novel coronavirus in C...</td>\n",
       "      <td>Virologists weigh in on novel coronavirus in C...</td>\n",
       "    </tr>\n",
       "    <tr>\n",
       "      <th>7</th>\n",
       "      <td>\"Chinese authorities have made a preliminary d...</td>\n",
       "      <td>\"Chinese authorities have made a preliminary d...</td>\n",
       "    </tr>\n",
       "    <tr>\n",
       "      <th>8</th>\n",
       "      <td>@tezuma75 Why #CCP keep on saying unknown caus...</td>\n",
       "      <td>Why  keep on saying unknown cause of pneumoni...</td>\n",
       "    </tr>\n",
       "    <tr>\n",
       "      <th>9</th>\n",
       "      <td>Chinese report says mysterious illnesses may b...</td>\n",
       "      <td>Chinese report says mysterious illnesses may b...</td>\n",
       "    </tr>\n",
       "  </tbody>\n",
       "</table>\n",
       "</div>"
      ],
      "text/plain": [
       "                                               tweet  \\\n",
       "0  Coronavirus | Human Coronavirus Types | CDC ht...   \n",
       "1  @shehryar_taseer That‚Äôs üíØ true , \\nCorona...   \n",
       "2  TLDR: Not SARS, possibly new coronavirus. Diff...   \n",
       "3  Disease outbreak news from the WHO: Middle Eas...   \n",
       "4  China - Media: WSJ says sources tell them myst...   \n",
       "5  The mystery new virus causing #China pneumonia...   \n",
       "6  Virologists weigh in on novel coronavirus in C...   \n",
       "7  \"Chinese authorities have made a preliminary d...   \n",
       "8  @tezuma75 Why #CCP keep on saying unknown caus...   \n",
       "9  Chinese report says mysterious illnesses may b...   \n",
       "\n",
       "                                          hash-tweet  \n",
       "0  Coronavirus | Human Coronavirus Types | CDC ht...  \n",
       "1   That‚Äôs üíØ true , \\nCorona virus \\nswine f...  \n",
       "2  TLDR: Not SARS, possibly new coronavirus. Diff...  \n",
       "3  Disease outbreak news from the WHO: Middle Eas...  \n",
       "4  China - Media: WSJ says sources tell them myst...  \n",
       "5  The mystery new virus causing  pneumonia outbr...  \n",
       "6  Virologists weigh in on novel coronavirus in C...  \n",
       "7  \"Chinese authorities have made a preliminary d...  \n",
       "8   Why  keep on saying unknown cause of pneumoni...  \n",
       "9  Chinese report says mysterious illnesses may b...  "
      ]
     },
     "execution_count": 21,
     "metadata": {},
     "output_type": "execute_result"
    }
   ],
   "source": [
    "file['hash-tweet'] = file['usr-tweet'].apply(hashtag)\n",
    "file[['tweet', 'hash-tweet']].head(10)"
   ]
  },
  {
   "cell_type": "code",
   "execution_count": 36,
   "id": "cba64de6",
   "metadata": {},
   "outputs": [
    {
     "data": {
      "text/html": [
       "<div>\n",
       "<style scoped>\n",
       "    .dataframe tbody tr th:only-of-type {\n",
       "        vertical-align: middle;\n",
       "    }\n",
       "\n",
       "    .dataframe tbody tr th {\n",
       "        vertical-align: top;\n",
       "    }\n",
       "\n",
       "    .dataframe thead th {\n",
       "        text-align: right;\n",
       "    }\n",
       "</style>\n",
       "<table border=\"1\" class=\"dataframe\">\n",
       "  <thead>\n",
       "    <tr style=\"text-align: right;\">\n",
       "      <th></th>\n",
       "      <th>tweet</th>\n",
       "    </tr>\n",
       "  </thead>\n",
       "  <tbody>\n",
       "    <tr>\n",
       "      <th>0</th>\n",
       "      <td>Coronavirus | Human Coronavirus Types | CDC</td>\n",
       "    </tr>\n",
       "    <tr>\n",
       "      <th>1</th>\n",
       "      <td>That‚Äôs üíØ true , \\nCorona virus \\nswine f...</td>\n",
       "    </tr>\n",
       "    <tr>\n",
       "      <th>2</th>\n",
       "      <td>TLDR: Not SARS, possibly new coronavirus. Diff...</td>\n",
       "    </tr>\n",
       "    <tr>\n",
       "      <th>3</th>\n",
       "      <td>Disease outbreak news from the WHO: Middle Eas...</td>\n",
       "    </tr>\n",
       "    <tr>\n",
       "      <th>4</th>\n",
       "      <td>China - Media: WSJ says sources tell them myst...</td>\n",
       "    </tr>\n",
       "    <tr>\n",
       "      <th>5</th>\n",
       "      <td>The mystery new virus causing  pneumonia outbr...</td>\n",
       "    </tr>\n",
       "    <tr>\n",
       "      <th>6</th>\n",
       "      <td>Virologists weigh in on novel coronavirus in C...</td>\n",
       "    </tr>\n",
       "    <tr>\n",
       "      <th>7</th>\n",
       "      <td>\"Chinese authorities have made a preliminary d...</td>\n",
       "    </tr>\n",
       "    <tr>\n",
       "      <th>8</th>\n",
       "      <td>Why  keep on saying unknown cause of pneumoni...</td>\n",
       "    </tr>\n",
       "    <tr>\n",
       "      <th>9</th>\n",
       "      <td>Chinese report says mysterious illnesses may b...</td>\n",
       "    </tr>\n",
       "  </tbody>\n",
       "</table>\n",
       "</div>"
      ],
      "text/plain": [
       "                                               tweet\n",
       "0       Coronavirus | Human Coronavirus Types | CDC \n",
       "1   That‚Äôs üíØ true , \\nCorona virus \\nswine f...\n",
       "2  TLDR: Not SARS, possibly new coronavirus. Diff...\n",
       "3  Disease outbreak news from the WHO: Middle Eas...\n",
       "4  China - Media: WSJ says sources tell them myst...\n",
       "5  The mystery new virus causing  pneumonia outbr...\n",
       "6  Virologists weigh in on novel coronavirus in C...\n",
       "7  \"Chinese authorities have made a preliminary d...\n",
       "8   Why  keep on saying unknown cause of pneumoni...\n",
       "9  Chinese report says mysterious illnesses may b..."
      ]
     },
     "execution_count": 36,
     "metadata": {},
     "output_type": "execute_result"
    }
   ],
   "source": [
    "file['tweet'] = file['hash-tweet'].apply(lambda x: re.split('https:\\/\\/.*', str(x))[0])\n",
    "file[['tweet']].head(10)"
   ]
  },
  {
   "cell_type": "code",
   "execution_count": 37,
   "id": "43400735",
   "metadata": {},
   "outputs": [
    {
     "data": {
      "text/plain": [
       "'Genome sequence of the new coronavirus associated with a pneumonia cluster in Wuhan, China: '"
      ]
     },
     "execution_count": 37,
     "metadata": {},
     "output_type": "execute_result"
    }
   ],
   "source": [
    "file[file['label']=='neu'].loc[17,'tweet']"
   ]
  },
  {
   "cell_type": "code",
   "execution_count": 38,
   "id": "86e6b92c",
   "metadata": {},
   "outputs": [
    {
     "data": {
      "text/plain": [
       "'Genome sequence of the new coronavirus associated with a pneumonia cluster in Wuhan, China: '"
      ]
     },
     "execution_count": 38,
     "metadata": {},
     "output_type": "execute_result"
    }
   ],
   "source": [
    "file[file['label']=='neu'].loc[17,'tweet']\n"
   ]
  },
  {
   "cell_type": "code",
   "execution_count": 39,
   "id": "97c423a9",
   "metadata": {},
   "outputs": [
    {
     "data": {
      "text/plain": [
       "'\"Chinese authorities have made a preliminary determination of a novel (or new) , identified in a hospit‚Ä¶ '"
      ]
     },
     "execution_count": 39,
     "metadata": {},
     "output_type": "execute_result"
    }
   ],
   "source": [
    "file[file['label']=='neu'].loc[7,'tweet']"
   ]
  },
  {
   "cell_type": "code",
   "execution_count": 41,
   "id": "e2443113",
   "metadata": {},
   "outputs": [
    {
     "name": "stderr",
     "output_type": "stream",
     "text": [
      "C:\\Users\\USER\\AppData\\Local\\Temp\\ipykernel_13448\\2344070467.py:2: FutureWarning: The default value of regex will change from True to False in a future version.\n",
      "  file['tweet'] = file['tweet'].str.replace('[^a-zA-Z#]+',' ')\n"
     ]
    },
    {
     "data": {
      "text/html": [
       "<div>\n",
       "<style scoped>\n",
       "    .dataframe tbody tr th:only-of-type {\n",
       "        vertical-align: middle;\n",
       "    }\n",
       "\n",
       "    .dataframe tbody tr th {\n",
       "        vertical-align: top;\n",
       "    }\n",
       "\n",
       "    .dataframe thead th {\n",
       "        text-align: right;\n",
       "    }\n",
       "</style>\n",
       "<table border=\"1\" class=\"dataframe\">\n",
       "  <thead>\n",
       "    <tr style=\"text-align: right;\">\n",
       "      <th></th>\n",
       "      <th>tweet</th>\n",
       "    </tr>\n",
       "  </thead>\n",
       "  <tbody>\n",
       "    <tr>\n",
       "      <th>0</th>\n",
       "      <td>Coronavirus Human Coronavirus Types CDC</td>\n",
       "    </tr>\n",
       "    <tr>\n",
       "      <th>1</th>\n",
       "      <td>That s true Corona virus swine flue Bird flu ...</td>\n",
       "    </tr>\n",
       "    <tr>\n",
       "      <th>2</th>\n",
       "      <td>TLDR Not SARS possibly new coronavirus Difficu...</td>\n",
       "    </tr>\n",
       "    <tr>\n",
       "      <th>3</th>\n",
       "      <td>Disease outbreak news from the WHO Middle East...</td>\n",
       "    </tr>\n",
       "    <tr>\n",
       "      <th>4</th>\n",
       "      <td>China Media WSJ says sources tell them mystery...</td>\n",
       "    </tr>\n",
       "    <tr>\n",
       "      <th>5</th>\n",
       "      <td>The mystery new virus causing pneumonia outbre...</td>\n",
       "    </tr>\n",
       "    <tr>\n",
       "      <th>6</th>\n",
       "      <td>Virologists weigh in on novel coronavirus in C...</td>\n",
       "    </tr>\n",
       "    <tr>\n",
       "      <th>7</th>\n",
       "      <td>Chinese authorities have made a preliminary d...</td>\n",
       "    </tr>\n",
       "    <tr>\n",
       "      <th>8</th>\n",
       "      <td>Why keep on saying unknown cause of pneumonia...</td>\n",
       "    </tr>\n",
       "    <tr>\n",
       "      <th>9</th>\n",
       "      <td>Chinese report says mysterious illnesses may b...</td>\n",
       "    </tr>\n",
       "  </tbody>\n",
       "</table>\n",
       "</div>"
      ],
      "text/plain": [
       "                                               tweet\n",
       "0           Coronavirus Human Coronavirus Types CDC \n",
       "1   That s true Corona virus swine flue Bird flu ...\n",
       "2  TLDR Not SARS possibly new coronavirus Difficu...\n",
       "3  Disease outbreak news from the WHO Middle East...\n",
       "4  China Media WSJ says sources tell them mystery...\n",
       "5  The mystery new virus causing pneumonia outbre...\n",
       "6  Virologists weigh in on novel coronavirus in C...\n",
       "7   Chinese authorities have made a preliminary d...\n",
       "8   Why keep on saying unknown cause of pneumonia...\n",
       "9  Chinese report says mysterious illnesses may b..."
      ]
     },
     "execution_count": 41,
     "metadata": {},
     "output_type": "execute_result"
    }
   ],
   "source": [
    "# remove special characters, numbers, punctuations\n",
    "file['tweet'] = file['tweet'].str.replace('[^a-zA-Z#]+',' ')\n",
    "file[['tweet']].head(10)"
   ]
  },
  {
   "cell_type": "code",
   "execution_count": 43,
   "id": "d62977e6",
   "metadata": {},
   "outputs": [
    {
     "data": {
      "text/html": [
       "<div>\n",
       "<style scoped>\n",
       "    .dataframe tbody tr th:only-of-type {\n",
       "        vertical-align: middle;\n",
       "    }\n",
       "\n",
       "    .dataframe tbody tr th {\n",
       "        vertical-align: top;\n",
       "    }\n",
       "\n",
       "    .dataframe thead th {\n",
       "        text-align: right;\n",
       "    }\n",
       "</style>\n",
       "<table border=\"1\" class=\"dataframe\">\n",
       "  <thead>\n",
       "    <tr style=\"text-align: right;\">\n",
       "      <th></th>\n",
       "      <th>tweet</th>\n",
       "    </tr>\n",
       "  </thead>\n",
       "  <tbody>\n",
       "    <tr>\n",
       "      <th>0</th>\n",
       "      <td>coronavirus human coronavirus types cdc</td>\n",
       "    </tr>\n",
       "    <tr>\n",
       "      <th>1</th>\n",
       "      <td>that s true corona virus swine flue bird flu ...</td>\n",
       "    </tr>\n",
       "    <tr>\n",
       "      <th>2</th>\n",
       "      <td>tldr not sars possibly new coronavirus difficu...</td>\n",
       "    </tr>\n",
       "    <tr>\n",
       "      <th>3</th>\n",
       "      <td>disease outbreak news from the who middle east...</td>\n",
       "    </tr>\n",
       "    <tr>\n",
       "      <th>4</th>\n",
       "      <td>china media wsj says sources tell them mystery...</td>\n",
       "    </tr>\n",
       "    <tr>\n",
       "      <th>5</th>\n",
       "      <td>the mystery new virus causing pneumonia outbre...</td>\n",
       "    </tr>\n",
       "    <tr>\n",
       "      <th>6</th>\n",
       "      <td>virologists weigh in on novel coronavirus in c...</td>\n",
       "    </tr>\n",
       "    <tr>\n",
       "      <th>7</th>\n",
       "      <td>chinese authorities have made a preliminary d...</td>\n",
       "    </tr>\n",
       "    <tr>\n",
       "      <th>8</th>\n",
       "      <td>why keep on saying unknown cause of pneumonia...</td>\n",
       "    </tr>\n",
       "    <tr>\n",
       "      <th>9</th>\n",
       "      <td>chinese report says mysterious illnesses may b...</td>\n",
       "    </tr>\n",
       "  </tbody>\n",
       "</table>\n",
       "</div>"
      ],
      "text/plain": [
       "                                               tweet\n",
       "0           coronavirus human coronavirus types cdc \n",
       "1   that s true corona virus swine flue bird flu ...\n",
       "2  tldr not sars possibly new coronavirus difficu...\n",
       "3  disease outbreak news from the who middle east...\n",
       "4  china media wsj says sources tell them mystery...\n",
       "5  the mystery new virus causing pneumonia outbre...\n",
       "6  virologists weigh in on novel coronavirus in c...\n",
       "7   chinese authorities have made a preliminary d...\n",
       "8   why keep on saying unknown cause of pneumonia...\n",
       "9  chinese report says mysterious illnesses may b..."
      ]
     },
     "execution_count": 43,
     "metadata": {},
     "output_type": "execute_result"
    }
   ],
   "source": [
    "# Making all the words in lower case\n",
    "file['tweet'] = file['tweet'].str.lower() \n",
    "file[['tweet']].head(10)"
   ]
  },
  {
   "cell_type": "code",
   "execution_count": 45,
   "id": "a0276aa0",
   "metadata": {},
   "outputs": [
    {
     "data": {
      "text/html": [
       "<div>\n",
       "<style scoped>\n",
       "    .dataframe tbody tr th:only-of-type {\n",
       "        vertical-align: middle;\n",
       "    }\n",
       "\n",
       "    .dataframe tbody tr th {\n",
       "        vertical-align: top;\n",
       "    }\n",
       "\n",
       "    .dataframe thead th {\n",
       "        text-align: right;\n",
       "    }\n",
       "</style>\n",
       "<table border=\"1\" class=\"dataframe\">\n",
       "  <thead>\n",
       "    <tr style=\"text-align: right;\">\n",
       "      <th></th>\n",
       "      <th>tweet</th>\n",
       "    </tr>\n",
       "  </thead>\n",
       "  <tbody>\n",
       "    <tr>\n",
       "      <th>0</th>\n",
       "      <td>coronavirus human coronavirus types cdc</td>\n",
       "    </tr>\n",
       "    <tr>\n",
       "      <th>1</th>\n",
       "      <td>that true corona virus swine flue bird flu dec...</td>\n",
       "    </tr>\n",
       "    <tr>\n",
       "      <th>2</th>\n",
       "      <td>tldr not sars possibly new coronavirus difficu...</td>\n",
       "    </tr>\n",
       "    <tr>\n",
       "      <th>3</th>\n",
       "      <td>disease outbreak news from the who middle east...</td>\n",
       "    </tr>\n",
       "    <tr>\n",
       "      <th>4</th>\n",
       "      <td>china media wsj says sources tell them mystery...</td>\n",
       "    </tr>\n",
       "    <tr>\n",
       "      <th>5</th>\n",
       "      <td>the mystery new virus causing pneumonia outbre...</td>\n",
       "    </tr>\n",
       "    <tr>\n",
       "      <th>6</th>\n",
       "      <td>virologists weigh novel coronavirus china outb...</td>\n",
       "    </tr>\n",
       "    <tr>\n",
       "      <th>7</th>\n",
       "      <td>chinese authorities have made preliminary dete...</td>\n",
       "    </tr>\n",
       "    <tr>\n",
       "      <th>8</th>\n",
       "      <td>why keep saying unknown cause pneumonia the ca...</td>\n",
       "    </tr>\n",
       "    <tr>\n",
       "      <th>9</th>\n",
       "      <td>chinese report says mysterious illnesses may f...</td>\n",
       "    </tr>\n",
       "  </tbody>\n",
       "</table>\n",
       "</div>"
      ],
      "text/plain": [
       "                                               tweet\n",
       "0            coronavirus human coronavirus types cdc\n",
       "1  that true corona virus swine flue bird flu dec...\n",
       "2  tldr not sars possibly new coronavirus difficu...\n",
       "3  disease outbreak news from the who middle east...\n",
       "4  china media wsj says sources tell them mystery...\n",
       "5  the mystery new virus causing pneumonia outbre...\n",
       "6  virologists weigh novel coronavirus china outb...\n",
       "7  chinese authorities have made preliminary dete...\n",
       "8  why keep saying unknown cause pneumonia the ca...\n",
       "9  chinese report says mysterious illnesses may f..."
      ]
     },
     "execution_count": 45,
     "metadata": {},
     "output_type": "execute_result"
    }
   ],
   "source": [
    "# remove short words\n",
    "file['tweet'] = file['tweet'].apply(lambda x: ' '.join([w for w in x.split() if len(w) > 2]))\n",
    "file[['tweet']].head(10)"
   ]
  },
  {
   "cell_type": "code",
   "execution_count": 50,
   "id": "531e1980",
   "metadata": {},
   "outputs": [
    {
     "data": {
      "text/plain": [
       "'chinese authorities have made preliminary determination novel new identified hospit'"
      ]
     },
     "execution_count": 50,
     "metadata": {},
     "output_type": "execute_result"
    }
   ],
   "source": [
    "file[file['label']=='neu'].loc[7,'tweet']"
   ]
  },
  {
   "cell_type": "code",
   "execution_count": 57,
   "id": "bbfa8f02",
   "metadata": {},
   "outputs": [
    {
     "data": {
      "text/html": [
       "<div>\n",
       "<style scoped>\n",
       "    .dataframe tbody tr th:only-of-type {\n",
       "        vertical-align: middle;\n",
       "    }\n",
       "\n",
       "    .dataframe tbody tr th {\n",
       "        vertical-align: top;\n",
       "    }\n",
       "\n",
       "    .dataframe thead th {\n",
       "        text-align: right;\n",
       "    }\n",
       "</style>\n",
       "<table border=\"1\" class=\"dataframe\">\n",
       "  <thead>\n",
       "    <tr style=\"text-align: right;\">\n",
       "      <th></th>\n",
       "      <th>tokenized-tweet</th>\n",
       "    </tr>\n",
       "  </thead>\n",
       "  <tbody>\n",
       "    <tr>\n",
       "      <th>0</th>\n",
       "      <td>[coronavirus, human, coronavirus, types, cdc]</td>\n",
       "    </tr>\n",
       "    <tr>\n",
       "      <th>1</th>\n",
       "      <td>[that, true, corona, virus, swine, flue, bird,...</td>\n",
       "    </tr>\n",
       "    <tr>\n",
       "      <th>2</th>\n",
       "      <td>[tldr, not, sars, possibly, new, coronavirus, ...</td>\n",
       "    </tr>\n",
       "    <tr>\n",
       "      <th>3</th>\n",
       "      <td>[disease, outbreak, news, from, the, who, midd...</td>\n",
       "    </tr>\n",
       "    <tr>\n",
       "      <th>4</th>\n",
       "      <td>[china, media, wsj, says, sources, tell, them,...</td>\n",
       "    </tr>\n",
       "    <tr>\n",
       "      <th>5</th>\n",
       "      <td>[the, mystery, new, virus, causing, pneumonia,...</td>\n",
       "    </tr>\n",
       "    <tr>\n",
       "      <th>6</th>\n",
       "      <td>[virologists, weigh, novel, coronavirus, china...</td>\n",
       "    </tr>\n",
       "    <tr>\n",
       "      <th>7</th>\n",
       "      <td>[chinese, authorities, have, made, preliminary...</td>\n",
       "    </tr>\n",
       "    <tr>\n",
       "      <th>8</th>\n",
       "      <td>[why, keep, saying, unknown, cause, pneumonia,...</td>\n",
       "    </tr>\n",
       "    <tr>\n",
       "      <th>9</th>\n",
       "      <td>[chinese, report, says, mysterious, illnesses,...</td>\n",
       "    </tr>\n",
       "  </tbody>\n",
       "</table>\n",
       "</div>"
      ],
      "text/plain": [
       "                                     tokenized-tweet\n",
       "0      [coronavirus, human, coronavirus, types, cdc]\n",
       "1  [that, true, corona, virus, swine, flue, bird,...\n",
       "2  [tldr, not, sars, possibly, new, coronavirus, ...\n",
       "3  [disease, outbreak, news, from, the, who, midd...\n",
       "4  [china, media, wsj, says, sources, tell, them,...\n",
       "5  [the, mystery, new, virus, causing, pneumonia,...\n",
       "6  [virologists, weigh, novel, coronavirus, china...\n",
       "7  [chinese, authorities, have, made, preliminary...\n",
       "8  [why, keep, saying, unknown, cause, pneumonia,...\n",
       "9  [chinese, report, says, mysterious, illnesses,..."
      ]
     },
     "execution_count": 57,
     "metadata": {},
     "output_type": "execute_result"
    }
   ],
   "source": [
    "# create new variable tokenized tweet \n",
    "file['tokenized-tweet'] = file['tweet'].apply(lambda x: x.split())\n",
    "file[['tokenized-tweet']].head(10)"
   ]
  },
  {
   "cell_type": "code",
   "execution_count": 59,
   "id": "cc84f74d",
   "metadata": {},
   "outputs": [],
   "source": [
    "#stemming\n",
    "\n",
    "from nltk.stem.porter import *\n",
    "stemmer = PorterStemmer()\n",
    "\n",
    "#apply stemmer for tokenized_tweet\n",
    "file['tokenized-tweet'] = file['tokenized-tweet'].apply(lambda x: [stemmer.stem(i) for i in x])\n"
   ]
  },
  {
   "cell_type": "code",
   "execution_count": 62,
   "id": "e16c298f",
   "metadata": {},
   "outputs": [
    {
     "data": {
      "text/html": [
       "<div>\n",
       "<style scoped>\n",
       "    .dataframe tbody tr th:only-of-type {\n",
       "        vertical-align: middle;\n",
       "    }\n",
       "\n",
       "    .dataframe tbody tr th {\n",
       "        vertical-align: top;\n",
       "    }\n",
       "\n",
       "    .dataframe thead th {\n",
       "        text-align: right;\n",
       "    }\n",
       "</style>\n",
       "<table border=\"1\" class=\"dataframe\">\n",
       "  <thead>\n",
       "    <tr style=\"text-align: right;\">\n",
       "      <th></th>\n",
       "      <th>tokenized-tweet</th>\n",
       "    </tr>\n",
       "  </thead>\n",
       "  <tbody>\n",
       "    <tr>\n",
       "      <th>0</th>\n",
       "      <td>[coronaviru, human, coronaviru, type, cdc]</td>\n",
       "    </tr>\n",
       "    <tr>\n",
       "      <th>1</th>\n",
       "      <td>[that, true, corona, viru, swine, flue, bird, ...</td>\n",
       "    </tr>\n",
       "    <tr>\n",
       "      <th>2</th>\n",
       "      <td>[tldr, not, sar, possibl, new, coronaviru, dif...</td>\n",
       "    </tr>\n",
       "    <tr>\n",
       "      <th>3</th>\n",
       "      <td>[diseas, outbreak, news, from, the, who, middl...</td>\n",
       "    </tr>\n",
       "    <tr>\n",
       "      <th>4</th>\n",
       "      <td>[china, media, wsj, say, sourc, tell, them, my...</td>\n",
       "    </tr>\n",
       "    <tr>\n",
       "      <th>5</th>\n",
       "      <td>[the, mysteri, new, viru, caus, pneumonia, out...</td>\n",
       "    </tr>\n",
       "    <tr>\n",
       "      <th>6</th>\n",
       "      <td>[virologist, weigh, novel, coronaviru, china, ...</td>\n",
       "    </tr>\n",
       "    <tr>\n",
       "      <th>7</th>\n",
       "      <td>[chines, author, have, made, preliminari, dete...</td>\n",
       "    </tr>\n",
       "    <tr>\n",
       "      <th>8</th>\n",
       "      <td>[whi, keep, say, unknown, caus, pneumonia, the...</td>\n",
       "    </tr>\n",
       "    <tr>\n",
       "      <th>9</th>\n",
       "      <td>[chines, report, say, mysteri, ill, may, from,...</td>\n",
       "    </tr>\n",
       "  </tbody>\n",
       "</table>\n",
       "</div>"
      ],
      "text/plain": [
       "                                     tokenized-tweet\n",
       "0         [coronaviru, human, coronaviru, type, cdc]\n",
       "1  [that, true, corona, viru, swine, flue, bird, ...\n",
       "2  [tldr, not, sar, possibl, new, coronaviru, dif...\n",
       "3  [diseas, outbreak, news, from, the, who, middl...\n",
       "4  [china, media, wsj, say, sourc, tell, them, my...\n",
       "5  [the, mysteri, new, viru, caus, pneumonia, out...\n",
       "6  [virologist, weigh, novel, coronaviru, china, ...\n",
       "7  [chines, author, have, made, preliminari, dete...\n",
       "8  [whi, keep, say, unknown, caus, pneumonia, the...\n",
       "9  [chines, report, say, mysteri, ill, may, from,..."
      ]
     },
     "execution_count": 62,
     "metadata": {},
     "output_type": "execute_result"
    }
   ],
   "source": [
    "file[['tokenized-tweet']].head(10)"
   ]
  },
  {
   "cell_type": "code",
   "execution_count": 64,
   "id": "c6e03b21",
   "metadata": {},
   "outputs": [],
   "source": [
    "# join tokens into one sentence\n",
    "for i in range(len(file['tokenized-tweet'])):\n",
    "    file['tokenized-tweet'][i] = ' '.join(file['tokenized-tweet'][i])"
   ]
  },
  {
   "cell_type": "code",
   "execution_count": 65,
   "id": "60b7c43b",
   "metadata": {},
   "outputs": [
    {
     "data": {
      "text/html": [
       "<div>\n",
       "<style scoped>\n",
       "    .dataframe tbody tr th:only-of-type {\n",
       "        vertical-align: middle;\n",
       "    }\n",
       "\n",
       "    .dataframe tbody tr th {\n",
       "        vertical-align: top;\n",
       "    }\n",
       "\n",
       "    .dataframe thead th {\n",
       "        text-align: right;\n",
       "    }\n",
       "</style>\n",
       "<table border=\"1\" class=\"dataframe\">\n",
       "  <thead>\n",
       "    <tr style=\"text-align: right;\">\n",
       "      <th></th>\n",
       "      <th>tokenized-tweet</th>\n",
       "    </tr>\n",
       "  </thead>\n",
       "  <tbody>\n",
       "    <tr>\n",
       "      <th>0</th>\n",
       "      <td>coronaviru human coronaviru type cdc</td>\n",
       "    </tr>\n",
       "    <tr>\n",
       "      <th>1</th>\n",
       "      <td>that true corona viru swine flue bird flu dece...</td>\n",
       "    </tr>\n",
       "    <tr>\n",
       "      <th>2</th>\n",
       "      <td>tldr not sar possibl new coronaviru difficult ...</td>\n",
       "    </tr>\n",
       "    <tr>\n",
       "      <th>3</th>\n",
       "      <td>diseas outbreak news from the who middl east r...</td>\n",
       "    </tr>\n",
       "    <tr>\n",
       "      <th>4</th>\n",
       "      <td>china media wsj say sourc tell them mysteri pn...</td>\n",
       "    </tr>\n",
       "    <tr>\n",
       "      <th>5</th>\n",
       "      <td>the mysteri new viru caus pneumonia outbreak p...</td>\n",
       "    </tr>\n",
       "    <tr>\n",
       "      <th>6</th>\n",
       "      <td>virologist weigh novel coronaviru china outbreak</td>\n",
       "    </tr>\n",
       "    <tr>\n",
       "      <th>7</th>\n",
       "      <td>chines author have made preliminari determin n...</td>\n",
       "    </tr>\n",
       "    <tr>\n",
       "      <th>8</th>\n",
       "      <td>whi keep say unknown caus pneumonia the caus o...</td>\n",
       "    </tr>\n",
       "    <tr>\n",
       "      <th>9</th>\n",
       "      <td>chines report say mysteri ill may from new cor...</td>\n",
       "    </tr>\n",
       "  </tbody>\n",
       "</table>\n",
       "</div>"
      ],
      "text/plain": [
       "                                     tokenized-tweet\n",
       "0               coronaviru human coronaviru type cdc\n",
       "1  that true corona viru swine flue bird flu dece...\n",
       "2  tldr not sar possibl new coronaviru difficult ...\n",
       "3  diseas outbreak news from the who middl east r...\n",
       "4  china media wsj say sourc tell them mysteri pn...\n",
       "5  the mysteri new viru caus pneumonia outbreak p...\n",
       "6   virologist weigh novel coronaviru china outbreak\n",
       "7  chines author have made preliminari determin n...\n",
       "8  whi keep say unknown caus pneumonia the caus o...\n",
       "9  chines report say mysteri ill may from new cor..."
      ]
     },
     "execution_count": 65,
     "metadata": {},
     "output_type": "execute_result"
    }
   ],
   "source": [
    "file[['tokenized-tweet']].head(10)"
   ]
  },
  {
   "cell_type": "code",
   "execution_count": 67,
   "id": "f2bdaa55",
   "metadata": {},
   "outputs": [],
   "source": [
    "file['tweet']  = file['tokenized-tweet']"
   ]
  },
  {
   "cell_type": "code",
   "execution_count": 69,
   "id": "5891b873",
   "metadata": {},
   "outputs": [],
   "source": [
    "X = file['tweet']\n",
    "y = file['label']"
   ]
  },
  {
   "cell_type": "code",
   "execution_count": 70,
   "id": "e8d69b51",
   "metadata": {},
   "outputs": [],
   "source": [
    "# Splitting the dataset into training and test set\n",
    "from sklearn.model_selection import train_test_split\n",
    "X_train, X_test, y_train, y_test = train_test_split(X, y,test_size = 0.3, random_state = 0)"
   ]
  },
  {
   "cell_type": "code",
   "execution_count": 73,
   "id": "5c356f21",
   "metadata": {},
   "outputs": [],
   "source": [
    "from sklearn.feature_extraction.text import TfidfVectorizer\n",
    "\n",
    "tfidf_vect = TfidfVectorizer(max_features = 5000)\n",
    "tfidf_vect.fit(file['tweet'])\n",
    "X_train_tfidf = tfidf_vect.transform(X_train)\n",
    "X_test_tfidf = tfidf_vect.transform(X_test)"
   ]
  },
  {
   "cell_type": "code",
   "execution_count": 74,
   "id": "1806a3ac",
   "metadata": {},
   "outputs": [
    {
     "name": "stdout",
     "output_type": "stream",
     "text": [
      "  (0, 4410)\t0.175844328401714\n",
      "  (0, 2426)\t0.6689380211672951\n",
      "  (0, 1666)\t0.5015088567232708\n",
      "  (0, 985)\t0.12349987766807269\n",
      "  (0, 77)\t0.5048141666492953\n",
      "  (1, 4925)\t0.20811051136144013\n",
      "  (1, 4514)\t0.4327577288616416\n",
      "  (1, 4511)\t0.3363472430776218\n",
      "  (1, 3371)\t0.29847403921163923\n",
      "  (1, 3090)\t0.30862059779479073\n",
      "  (1, 2798)\t0.2739982957062465\n",
      "  (1, 1727)\t0.2911830998912611\n",
      "  (1, 985)\t0.06261613691717231\n",
      "  (1, 757)\t0.1285561675339681\n",
      "  (1, 752)\t0.3217017869408047\n",
      "  (1, 725)\t0.3660819280888509\n",
      "  (1, 158)\t0.23265794518806052\n",
      "  (2, 4472)\t0.30725043979791755\n",
      "  (2, 4409)\t0.23446465071507028\n",
      "  (2, 3435)\t0.409586728855035\n",
      "  (2, 2635)\t0.40188365987272334\n",
      "  (2, 2534)\t0.39374399418717615\n",
      "  (2, 1725)\t0.199846227419994\n",
      "  (2, 1687)\t0.2747027601224079\n",
      "  (2, 1532)\t0.46891166115981775\n",
      "  :\t:\n",
      "  (20996, 2273)\t0.21860715457922894\n",
      "  (20996, 1537)\t0.35704628060394394\n",
      "  (20996, 982)\t0.16982869887857152\n",
      "  (20996, 419)\t0.33415864633384873\n",
      "  (20996, 171)\t0.15591153964291693\n",
      "  (20997, 4893)\t0.397105920543518\n",
      "  (20997, 4852)\t0.5379805146947694\n",
      "  (20997, 1150)\t0.7331219014586765\n",
      "  (20997, 985)\t0.12416171422645077\n",
      "  (20998, 4487)\t0.34805346151876193\n",
      "  (20998, 4232)\t0.30959848989412686\n",
      "  (20998, 4170)\t0.30811237683375553\n",
      "  (20998, 4098)\t0.29101054059249487\n",
      "  (20998, 3369)\t0.30366950858627784\n",
      "  (20998, 2106)\t0.30572657593640656\n",
      "  (20998, 1707)\t0.418766075979101\n",
      "  (20998, 1581)\t0.418766075979101\n",
      "  (20998, 985)\t0.07128019851511815\n",
      "  (20998, 74)\t0.248781756415031\n",
      "  (20999, 4410)\t0.15436367448273944\n",
      "  (20999, 3247)\t0.3201808167262322\n",
      "  (20999, 3080)\t0.3951591303392097\n",
      "  (20999, 1789)\t0.5839415889199291\n",
      "  (20999, 985)\t0.10841347621665287\n",
      "  (20999, 878)\t0.6039570359011965\n"
     ]
    }
   ],
   "source": [
    "print(X_train_tfidf)"
   ]
  },
  {
   "cell_type": "code",
   "execution_count": 75,
   "id": "7db29ff4",
   "metadata": {},
   "outputs": [
    {
     "name": "stdout",
     "output_type": "stream",
     "text": [
      "  (0, 4850)\t0.34190988325626115\n",
      "  (0, 4764)\t0.1336903990996403\n",
      "  (0, 4410)\t0.08512847251529336\n",
      "  (0, 3116)\t0.23948771609495992\n",
      "  (0, 2597)\t0.19683678602779758\n",
      "  (0, 1757)\t0.2946806645264981\n",
      "  (0, 1648)\t0.2725965674232526\n",
      "  (0, 1509)\t0.351249403002632\n",
      "  (0, 1401)\t0.3831162415496945\n",
      "  (0, 1299)\t0.3734279879227339\n",
      "  (0, 1277)\t0.23355799769359606\n",
      "  (0, 1006)\t0.22489796969266\n",
      "  (0, 982)\t0.14179884705587012\n",
      "  (0, 760)\t0.17501652887512376\n",
      "  (0, 124)\t0.18778761859969886\n",
      "  (1, 4549)\t0.3839606884486774\n",
      "  (1, 4410)\t0.11769811473081464\n",
      "  (1, 4165)\t0.3293114914363625\n",
      "  (1, 3224)\t0.28805931748447905\n",
      "  (1, 3018)\t0.2772937918613655\n",
      "  (1, 2918)\t0.34838333468045507\n",
      "  (1, 2283)\t0.3661424211088396\n",
      "  (1, 2273)\t0.2523600788629267\n",
      "  (1, 985)\t0.08266233493645456\n",
      "  (1, 914)\t0.4605008577450666\n",
      "  :\t:\n",
      "  (8997, 1346)\t0.2934255973172513\n",
      "  (8997, 985)\t0.057571016004856534\n",
      "  (8997, 437)\t0.4055118504110081\n",
      "  (8997, 397)\t0.38586227088380254\n",
      "  (8998, 4979)\t0.21170376734085783\n",
      "  (8998, 4138)\t0.42528182418779503\n",
      "  (8998, 4094)\t0.3617397634872533\n",
      "  (8998, 4079)\t0.3501295915675001\n",
      "  (8998, 2597)\t0.2427778095877161\n",
      "  (8998, 1366)\t0.35793253824379334\n",
      "  (8998, 678)\t0.3281150206765262\n",
      "  (8998, 542)\t0.30234773458631276\n",
      "  (8998, 408)\t0.36706962740775\n",
      "  (8999, 4670)\t0.2586551661649952\n",
      "  (8999, 4410)\t0.11211662185170222\n",
      "  (8999, 3655)\t0.25317581580988857\n",
      "  (8999, 3340)\t0.3874846390302448\n",
      "  (8999, 3018)\t0.2641439353132292\n",
      "  (8999, 2952)\t0.21630697066735047\n",
      "  (8999, 2398)\t0.3844901537003255\n",
      "  (8999, 2273)\t0.24039263158165855\n",
      "  (8999, 1772)\t0.19832178200102787\n",
      "  (8999, 669)\t0.19212415126814078\n",
      "  (8999, 431)\t0.412544758270543\n",
      "  (8999, 416)\t0.3710345171260369\n"
     ]
    }
   ],
   "source": [
    "print(X_test_tfidf)"
   ]
  },
  {
   "cell_type": "code",
   "execution_count": 76,
   "id": "36ed147a",
   "metadata": {},
   "outputs": [
    {
     "name": "stdout",
     "output_type": "stream",
     "text": [
      "{'coronaviru': 985, 'human': 2162, 'type': 4600, 'cdc': 692, 'that': 4409, 'true': 4571, 'corona': 982, 'viru': 4764, 'swine': 4316, 'bird': 458, 'flu': 1710, 'decemb': 1136, 'when': 4866, 'whole': 4879, 'busi': 609, 'not': 3008, 'sar': 3823, 'possibl': 3369, 'new': 2952, 'difficult': 1246, 'confirm': 923, 'becaus': 403, 'patient': 3224, 'identifi': 2199, 'later': 2536, 'infect': 2273, 'diseas': 1277, 'outbreak': 3123, 'news': 2959, 'from': 1772, 'the': 4410, 'who': 4877, 'middl': 2783, 'east': 1415, 'respiratori': 3683, 'syndrom': 4327, 'mer': 2764, 'cov': 1012, 'unit': 4646, 'arab': 233, 'china': 757, 'media': 2747, 'wsj': 4946, 'say': 3833, 'sourc': 4097, 'tell': 4377, 'them': 4415, 'mysteri': 2896, 'pneumonia': 3340, 'someth': 4079, 'ha': 1953, 'been': 407, 'caus': 684, 'same': 3810, 'famili': 1613, 'and': 171, 'virologist': 4762, 'weigh': 4846, 'novel': 3018, 'chines': 760, 'author': 314, 'have': 2003, 'made': 2669, 'preliminari': 3394, 'determin': 1213, 'hospit': 2133, 'whi': 4869, 'keep': 2459, 'unknown': 4649, 'obvious': 3046, 'relat': 3622, 'let': 2578, 'report': 3655, 'ill': 2207, 'may': 2734, 'strain': 4206, 'alway': 146, 'feel': 1648, 'weird': 4849, 'hope': 2124, 'for': 1725, 'anoth': 188, 'ration': 3551, 'our': 3116, 'research': 3671, 'trace': 4522, 'cnet': 832, 'wuhan': 4953, 'bbc': 391, 'health': 2020, 'advisori': 64, 'about': 12, 'ask': 267, 'with': 4907, 'sever': 3929, 'scientist': 3855, 'put': 3493, 'unusu': 4664, 'scari': 3842, 'scale': 3835, 'make': 2685, 'it': 2371, 'debut': 1132, 'score': 3858, 'out': 3119, 'mask': 2722, 'genom': 1829, 'sequenc': 3917, 'associ': 277, 'cluster': 829, 'crap': 1023, 'quick': 3514, 'blast': 471, 'search': 3874, 'suggest': 4260, 'look': 2638, 'like': 2597, 'bat': 380, 'lab': 2510, 'find': 1678, 'death': 1128, 'cbc': 689, 'first': 1687, 'jan': 2396, 'all': 124, 'interim': 2327, 'guidanc': 1945, 'technic': 4367, 'document': 1317, 'will': 4893, 'updat': 4670, 'need': 2930, 'there': 4422, 'call': 626, 'transpar': 4542, 'data': 1106, 'share': 3942, 'concern': 909, 'releas': 3625, 'genet': 1826, 'now': 3020, 'deadli': 1120, 'babi': 342, 'born': 514, 'pic': 3288, 'isn': 2365, 'current': 1070, 'spread': 4136, 'ncov': 2918, 'allow': 132, 'countri': 1006, 'develop': 1219, 'thailand': 4406, 'travel': 4545, 'form': 1737, 'accord': 28, 'offici': 3058, 'good': 1884, 'hasn': 1998, 'seafood': 3872, 'market': 2717, 'major': 2683, 'transport': 4543, 'hub': 2155, 'close': 818, 'brace': 534, 'yourself': 4983, 'thi': 4427, 'nasti': 2910, 'amp': 163, 'killer': 2474, 'second': 3879, 'substanti': 4249, 'more': 2856, 'case': 669, 'fear': 1636, 'caught': 683, 'die': 1242, 'japan': 2399, 'three': 4445, 'airport': 104, 'screen': 3866, 'passeng': 3211, 'issu': 2370, 'warn': 4808, 'after': 74, 'airlin': 101, 'amid': 158, 'lax': 2547, 'other': 3114, 'illn': 2210, 'rais': 3532, 'question': 3512, 'found': 1744, 'export': 1579, 'citi': 787, 'sinc': 4004, 'wtf': 4947, 'sound': 4094, 'than': 4407, 'mani': 2701, 'initi': 2291, 'thought': 4439, 'through': 4448, 'contact': 944, 'where': 4867, 'world': 4925, 'stand': 4155, 'emerg': 1455, 'some': 4075, 'estim': 1515, 'number': 3028, 'peopl': 3247, 'check': 741, 'least': 2559, 'suspect': 4300, 'shenzhen': 3951, 'shanghai': 3939, 'hundr': 2169, 'also': 142, 'grossli': 1929, 'underestim': 4630, 'studi': 4233, 'cnn': 834, 'alreadi': 140, 'ani': 180, 'idea': 2196, 'what': 4864, 'cost': 993, 'newli': 2957, 'test': 4399, 'alert': 112, 'korea': 2498, 'seem': 3891, 'pretti': 3409, 'bad': 351, 'are': 237, 'worri': 4928, 'could': 1000, 'mutat': 2891, 'into': 2333, 'even': 1529, 'potent': 3372, 'modeloviru': 2834, 'surg': 4287, 'jump': 2441, 'again': 76, 'leap': 2557, 'latest': 2537, 'blog': 478, 'which': 4871, 'doesn': 1323, 'includ': 2244, 'factbox': 1596, 'fuell': 1781, 'post': 3370, 'know': 2490, 'publish': 3479, 'trend': 4552, 'tourist': 4513, 'come': 869, 'nepal': 2942, 'take': 4340, 'epidem': 1492, 'neighbor': 2936, 'veri': 4729, 'beij': 416, 'break': 542, 'silenc': 3994, 'but': 614, 'onli': 3082, 'deni': 1178, 'rumour': 3775, 'head': 2013, 'govern': 1897, 'expert': 1570, 'team': 4364, 'transmiss': 4539, 'state': 4165, 'york': 4978, 'time': 4472, 'zero': 4988, 'hedg': 2036, 'detect': 1211, 'well': 4852, 'thailan': 4405, 'viral': 4759, 'contagi': 946, 'said': 3800, 'zhong': 4993, 'infecti': 2274, 'had': 1957, 'last': 2534, 'year': 4967, 'drink': 1366, 'bottl': 521, 'south': 4098, 'you': 4979, 'think': 4432, 'reach': 3561, 'tougher': 4510, 'stanc': 4154, 'adopt': 58, 'your': 4982, 'hear': 2024, 'might': 2787, 'next': 2965, 'plagu': 3309, 'still': 4187, 'anim': 181, 'barrier': 373, 'pand': 3177, 'transmit': 4540, 'nation': 2911, 'hold': 2097, 'meet': 2752, 'asia': 264, 'global': 1863, 'hysteria': 2182, 'should': 3968, 'their': 4414, 'joke': 2428, 'old': 3068, 'mean': 2740, 'friday': 1766, 'night': 2976, 'wrap': 4938, 'tonight': 4495, 'touch': 4508, 'daili': 1089, 'watch': 4819, 'dog': 1325, 'meat': 2745, 'trade': 4525, 'definit': 1158, 'cover': 1013, 'be': 394, 'truth': 4575, 'over': 3139, 'extend': 1583, 'across': 35, 'planet': 3314, 'person': 3262, 'can': 637, 'between': 431, 'gover': 1896, 'known': 2492, 'freak': 1755, 'realli': 3572, 'danger': 1097, 'influenza': 2278, 'kill': 2473, 'anyway': 209, 'border': 510, 'cant': 645, 'enter': 1480, 'sick': 3983, 'abc': 4, 'symptom': 4325, 'how': 2148, 'treatment': 4549, 'prevent': 3410, 'pregnanc': 3391, 'get': 1841, 'scare': 3840, 'medic': 2748, 'hazmat': 2010, 'suit': 4263, 'air': 95, 'plane': 3313, 'worker': 4922, 'doe': 1322, 'far': 1619, 'low': 2648, 'mortal': 2862, 'rate': 3549, 'scienc': 3853, 'aaa': 0, 'bon': 500, 'tou': 4507, 'struck': 4227, 'most': 2865, 'whom': 4880, 'ahead': 87, 'period': 3255, 'racial': 3524, 'group': 1931, 'ff': 1659, 'rather': 3550, 'go': 1868, 'waiv': 4791, 'chang': 722, 'fee': 1646, 'want': 4802, 'leav': 2560, 'earlier': 1407, 'due': 1386, 'wa': 4788, 'here': 2053, 'video': 4746, 'explain': 1572, 'billi': 444, 'ray': 3555, 'won': 4915, 'ton': 4492, 'soup': 4095, 'ban': 362, 'read': 3564, 'articl': 257, 'don': 1332, 'exactli': 1544, 'brisban': 557, 'man': 2696, 'return': 3699, 'cousin': 1011, 'began': 411, 'music': 2888, 'tech': 4366, 'boston': 516, 'doctor': 1316, 'everyon': 1536, 'wari': 4806, 'organ': 3107, 'rise': 3732, 'expect': 1565, 'wors': 4930, 'xenophobia': 4957, 'rampant': 3539, 'classic': 801, 'everi': 1533, 'just': 2444, 'slice': 4031, 'lime': 2601, 'citizen': 788, 'advis': 63, 'wear': 4832, 'particularli': 3208, 'befor': 409, 'third': 4433, 'fourth': 1747, 'prepar': 3397, 'monkey': 2848, 'life': 2592, 'mount': 2870, 'claim': 791, 'start': 4161, 'prompt': 3448, 'sfo': 3931, 'top': 4499, 'twitter': 4598, 'wild': 4889, 'origin': 3111, 'nah': 2899, 'tast': 4354, 'better': 430, 'forex': 1734, 'today': 4480, 'optimist': 3099, 'trump': 4573, 'davo': 1110, 'child': 753, 'posit': 3368, 'cebu': 694, 'javier': 2401, 'hern': 2054, 'ndez': 2921, 'austin': 310, 'via': 4736, 'nyt': 3037, 'australia': 311, 'flight': 1702, 'resid': 3674, 'boost': 507, 'yike': 4975, 'doh': 1326, 'admit': 57, 'continu': 956, 'dead': 1118, 'weekend': 4843, 'they': 4426, 'trip': 4563, 'real': 3568, 'carri': 663, 'give': 1857, 'scientif': 3854, 'natur': 2913, 'cure': 1067, 'tuesday': 4583, 'anyon': 207, 'face': 1590, 'none': 2996, 'jame': 2394, 'whether': 4868, 'januari': 2398, 'pathogen': 3220, 'fami': 1612, 'high': 2063, 'risk': 3734, 'capit': 650, 'sixth': 4018, 'victim': 4742, 'holiday': 2101, 'heighten': 2039, 'almost': 133, 'occupi': 3047, 'herald': 2050, 'sun': 4268, 'mostli': 2866, 'colleg': 858, 'kiss': 2481, 'hahaha': 1959, 'unless': 4651, 'public': 3477, 'help': 2046, 'fanci': 1616, 'talk': 4344, 'cat': 675, 'dont': 1336, 'one': 3080, 'tho': 4434, 'then': 4418, 'ive': 2380, 'land': 2524, 'soil': 4067, 'quickli': 3516, 'marketwatch': 2718, 'announc': 184, 'way': 4822, 'fast': 1624, 'felt': 1651, 'everyth': 1537, 'hell': 2043, 'pack': 3164, 'thing': 4430, 'washington': 4813, 'catch': 678, 'discov': 1272, 'folk': 1715, 'see': 3889, 'never': 2951, 'friend': 1767, 'believ': 419, 'declar': 1140, 'immedi': 2218, 'sorri': 4089, 'kinda': 2477, 'dow': 1346, 'fall': 1606, 'point': 3344, 'big': 440, 'declin': 1141, 'boe': 493, 'republ': 3662, 'patent': 3218, 'arriv': 254, 'chicago': 750, 'hare': 1988, 'american': 155, 'bro': 562, 'stem': 4175, 'threaten': 4444, 'further': 1792, 'bring': 555, 'netflix': 2946, 'farm': 1620, 'hang': 1979, 'goat': 1871, 'while': 4872, 'els': 1450, 'bout': 526, 'situat': 4016, 'summari': 4266, 'usa': 4684, 'yet': 4973, 'reportedli': 3656, 'shut': 3978, 'foreign': 1731, 'seattl': 3877, 'int': 2316, 'induc': 2267, 'chanc': 720, 'buy': 616, 'unrel': 4660, 'stock': 4192, 'jim': 2415, 'cramer': 1022, 'expand': 1564, 'welcom': 4850, 'america': 154, 'begun': 413, 'pleas': 3329, 'practic': 3378, 'social': 4061, 'hygien': 2178, 'model': 2832, 'simul': 4002, 'iran': 2350, 'doomsday': 1338, 'loom': 2639, 'guy': 1951, 'california': 625, 'ant': 191, 'sicken': 3984, 'six': 4017, 'prime': 3416, 'minist': 2806, 'scott': 3860, 'morrison': 2860, 'evolv': 1542, 'fuck': 1777, 'hillari': 2071, 'clinton': 812, 'mom': 2839, 'ago': 84, 'told': 4487, 'diagnos': 1226, 'week': 4842, 'avoid': 329, 'multipl': 2884, 'australian': 312, 'mad': 2668, 'money': 2844, 'uncertainti': 4621, 'ceo': 704, 'wife': 4885, 'tri': 4555, 'boy': 531, 'contract': 958, 'down': 1347, 'semi': 3903, 'liter': 2612, 'function': 1786, 'staff': 4148, 'temperatur': 4380, 'begin': 412, 'jamaica': 2393, 'treat': 4548, 'press': 3404, 'becom': 404, 'million': 2798, 'rememb': 3639, 'light': 2595, 'recent': 3582, 'note': 3010, 'virus': 4766, 'bitch': 463, 'stay': 4170, 'away': 334, 'heard': 2025, 'got': 1890, 'racist': 3526, 'scene': 3846, 'learn': 2558, 'drive': 1368, 'russia': 3783, 'india': 2258, 'live': 2615, 'nine': 2982, 'horror': 2131, 'sweep': 4312, 'globe': 1865, 'stori': 4202, 'show': 3972, 'connect': 928, 'appli': 223, 'intern': 2329, 'antidot': 199, 'appar': 218, 'por': 3361, 'del': 1160, 'sir': 4012, 'came': 629, 'assum': 278, 'impact': 2224, 'montreal': 2850, 'follow': 1716, 'snohomish': 4056, 'counti': 1004, 'confus': 926, 'compani': 891, 'macau': 2666, 'hong': 2119, 'kong': 2495, 'econom': 1423, 'name': 2904, 'these': 4425, 'hangov': 1980, 'word': 4919, 'drunk': 1378, 'off': 3054, 'parti': 3203, 'nail': 2901, 'pillar': 3296, 'shame': 3937, 'provinc': 3468, 'care': 656, 'vigil': 4750, 'special': 4108, 'administr': 54, 'region': 3613, 'coordin': 970, 'center': 700, 'move': 2874, 'quarantin': 3505, 'must': 2890, 'fail': 1601, 'asshol': 274, 'tabl': 4330, 'inform': 2283, 'map': 2708, 'etc': 1516, 'examin': 1546, 'wont': 4917, 'russian': 3784, 'iranian': 2351, 'north': 3004, 'korean': 2499, 'raymond': 3556, 'item': 2376, 'broadcast': 563, 'ladi': 2517, 'toll': 4489, 'spectat': 4111, 'index': 2257, 'cathay': 679, 'cabin': 622, 'crew': 1034, 'mainland': 2678, 'differ': 1245, 'ground': 1930, 'exist': 1561, 'impli': 2229, 'grappl': 1913, 'dure': 1397, 'lunar': 2656, 'run': 3776, 'page': 3167, 'playbook': 3324, 'spi': 4117, 'doubl': 1344, 'mind': 2801, 'corpor': 988, 'creat': 1026, 'vaccin': 4697, 'lucki': 2655, 'happen': 1981, 'long': 2635, 'end': 1465, 'healthcar': 2021, 'economist': 1425, 'whatev': 4865, 'grave': 1915, 'superspread': 4274, 'brain': 536, 'surgeri': 4288, 'until': 4662, 'lead': 2552, 'seriou': 3921, 'correct': 990, 'pandem': 3179, 'hit': 2082, 'increas': 2249, 'around': 251, 'hate': 2000, 'jinp': 2417, 'month': 2849, 'gotten': 1892, 'round': 3758, 'substanc': 4248, 'fish': 1689, 'mark': 2716, 'frustrat': 1775, 'climb': 810, 'adapt': 45, 'key': 2467, 'grow': 1932, 'destin': 1206, 'goodby': 1885, 'actual': 41, 'gonna': 1883, 'imag': 2213, 'wwiii': 4954, 'climat': 809, 'monitor': 2847, 'precaut': 3386, 'npr': 3023, 'trust': 4574, 'total': 4505, 'under': 4629, 'control': 961, 'commerc': 880, 'player': 3325, 'eas': 1411, 'freez': 1760, 'price': 3414, 'disinfect': 1282, 'link': 2607, 'anticip': 198, 'cancel': 641, 'blow': 483, 'yesterday': 4972, 'likelihood': 2598, 'togeth': 4483, 'separ': 3916, 'area': 238, 'precautionari': 3387, 'measur': 2744, 'regi': 3611, 'great': 1917, 'shape': 3941, 'plan': 3312, 'egypt': 1438, 'highli': 2066, 'stop': 4199, 'olymp': 3073, 'box': 530, 'qualifi': 3502, 'nix': 2987, 'review': 3708, 'pari': 3197, 'back': 345, 'she': 3947, 'cook': 967, 'secretari': 3883, 'howev': 2149, 'sell': 3899, 'protect': 3459, 'pose': 3367, 'leadership': 2554, 'reuter': 3703, 'object': 3041, 'import': 2231, 'ever': 1532, 'ramp': 3537, 'day': 1114, 'smash': 4044, 'coupl': 1007, 'impeach': 2225, 'jeff': 2405, 'bezo': 434, 'wednesday': 4839, 'brief': 551, 'contain': 950, 'deadass': 1119, 'abt': 17, 'wash': 4812, 'hand': 1975, 'kid': 2472, 'longer': 2636, 'spark': 4105, 'dear': 1126, 'given': 1858, 'lee': 2565, 'sincer': 4005, 'canada': 638, 'threat': 4443, 'particular': 3207, 'room': 3752, 'inspect': 2305, 'dax': 1113, 'slow': 4036, 'struggl': 4229, 'berni': 426, 'harri': 1991, 'deal': 1123, 'chill': 755, 'sharpli': 3944, 'mid': 2781, 'tackl': 4332, 'heathrow': 2031, 'describ': 1199, 'delet': 1164, 'previou': 3411, 'tweet': 4594, 'thread': 4442, 'were': 4856, 'pick': 3289, 'ghana': 1843, 'shit': 3957, 'would': 4935, 'kenya': 2461, 'step': 4176, 'surveil': 4293, 'entri': 1484, 'act': 36, 'effort': 1436, 'depress': 1192, 'ad': 43, 'hubei': 2156, 'oversea': 3150, 'forc': 1727, 'rethink': 3696, 'chin': 756, 'conduct': 916, 'atlanta': 287, 'employ': 1461, 'holi': 2100, 'less': 2576, 'wait': 4790, 'anyth': 208, 'inbound': 2240, 'ourselv': 3117, 'puzzl': 3495, 'piec': 3292, 'smell': 4045, 'against': 77, 'simpli': 4000, 'two': 4599, 'tip': 4476, 'technolog': 4368, 'aint': 94, 'play': 3323, 'inc': 2241, 'smh': 4046, 'cite': 786, 'regul': 3616, 'combat': 867, 'bonni': 504, 'henri': 2048, 'provinci': 3469, 'offic': 3057, 'join': 2426, 'clock': 816, 'weaker': 4827, 'morn': 2858, 'establish': 1513, 'idk': 2202, 'interest': 2325, 'rapidli': 3546, 'food': 1718, 'poison': 3347, 'lot': 2646, 'order': 3103, 'spreader': 4137, 'too': 4496, 'mayb': 2735, 'system': 4328, 'five': 1691, 'wedg': 4838, 'affect': 69, 'afp': 70, 'probabl': 3428, 'fire': 1685, 'gun': 1948, 'girl': 1854, 'herself': 2056, 'choos': 770, 'fighter': 1667, 'com': 865, 'nov': 3015, 'eve': 1528, 'few': 1657, 'confer': 918, 'alarm': 110, 'crisi': 1039, 'open': 3090, 'aliexpress': 121, 'packag': 3165, 'belt': 422, 'fresh': 1764, 'free': 1757, 'reveal': 3704, 'bug': 588, 'turn': 4589, 'ghost': 1845, 'emphas': 1460, 'gold': 1876, 'process': 3433, 'yep': 4971, 'isol': 2367, 'someon': 4078, 'proper': 3452, 'work': 4921, 'tomorrow': 4491, 'overwhelm': 3156, 'contamin': 951, 'kazakhstan': 2458, 'reckon': 3585, 'thank': 4408, 'much': 2881, 'extraordinari': 1586, 'respons': 3686, 'matter': 2732, 'black': 468, 'white': 4876, 'communist': 889, 'halt': 1968, 'cut': 1075, 'despit': 1205, 'professor': 3438, 'spanish': 4103, 'full': 1783, 'indian': 2259, 'student': 4232, 'anxiou': 204, 'virul': 4765, 'committe': 885, 'gain': 1800, 'lake': 2521, 'apt': 232, 'nvax': 3032, 'potenti': 3373, 'gap': 1806, 'critic': 1041, 'nightmar': 2978, 'train': 4533, 'station': 4167, 'bu': 580, 'okay': 3066, 'similar': 3997, 'clearli': 806, 'wrong': 4944, 'effect': 1433, 'did': 1239, 'demand': 1172, 'beer': 408, 'lock': 2627, 'widespread': 4884, 'fatal': 1627, 'drastic': 1359, 'slowli': 4038, 'sure': 4285, 'limit': 2602, 'popul': 3359, 'billion': 445, 'nice': 2971, 'scaremong': 3841, 'restrict': 3690, 'wildlif': 4892, 'taken': 4341, 'underway': 4636, 'right': 3726, 'himself': 2074, 'becam': 402, 'mexico': 2774, 'visit': 4770, 'damn': 1093, 'hollywood': 2103, 'movi': 2876, 'decid': 1138, 'thursday': 4458, 'constitut': 937, 'postpon': 3371, 'decis': 1139, 'pork': 3363, 'pig': 3293, 'wth': 4948, 'stunt': 4238, 'goe': 1873, 'promot': 3447, 'task': 4353, 'secur': 3888, 'info': 2280, 'gener': 1825, 'nuke': 3027, 'greenland': 1922, 'otherwis': 3115, 'suspend': 4301, 'spre': 4135, 'rapid': 3545, 'consist': 933, 'seek': 3890, 'suspens': 4302, 'heart': 2026, 'readi': 3566, 'meanwhil': 2742, 'cnbc': 831, 'escal': 1506, 'safe': 3796, 'handl': 1976, 'hack': 1955, 'phone': 3283, 'littl': 2613, 'went': 4855, 'fli': 1701, 'berlin': 425, 'german': 1839, 'phrase': 3285, 'panic': 3182, 'common': 887, 'term': 4391, 'varieti': 4711, 'seven': 3927, 'stronger': 4225, 'action': 37, 'ori': 3110, 'downplay': 1350, 'huh': 2159, 'inf': 2270, 'pakistan': 3172, 'islamabad': 2363, 'desk': 1203, 'ali': 118, 'walk': 4796, 'dodg': 1320, 'mouth': 2873, 'stick': 4184, 'thumb': 4456, 'transit': 4537, 'copi': 973, 'bar': 369, 'gotta': 1891, 'ingat': 2285, 'daw': 1111, 'ngl': 2966, 'moscow': 2864, 'worrisom': 4929, 'pollut': 3354, 'taiwan': 4338, 'disea': 1276, 'seal': 3873, 'each': 1405, 'privat': 3423, 'messag': 2768, 'use': 4686, 'robot': 3743, 'view': 4748, 'certain': 706, 'place': 3308, 'itself': 2377, 'ppl': 3377, 'fearmong': 1637, 'yall': 4962, 'clean': 804, 'street': 4214, 'interview': 2332, 'guangzhou': 1937, 'southern': 4100, 'email': 1452, 'deport': 1191, 'lol': 2632, 'brexit': 549, 'wet': 4863, 'photo': 3284, 'shop': 3961, 'hot': 2136, 'spring': 4138, 'add': 46, 'tourism': 4512, 'tour': 4511, 'budget': 585, 'wouldn': 4936, 'surpris': 4291, 'shot': 3967, 'best': 428, 'guess': 1942, 'send': 3906, 'locat': 2626, 'impos': 2232, 'terrifi': 4394, 'podcast': 3343, 'episod': 1495, 'wanna': 4801, 'hous': 2144, 'shutdown': 3979, 'listen': 2611, 'pop': 3358, 'song': 4083, 'gave': 1815, 'snake': 4051, 'legit': 2571, 'headach': 2014, 'past': 3213, 'happi': 1982, 'tactic': 4333, 'novemb': 3019, 'justia': 2445, 'event': 1530, 'aid': 90, 'horrif': 2129, 'disturb': 1301, 'footag': 1721, 'visual': 4772, 'guid': 1944, 'purpos': 3490, 'abl': 9, 'crowd': 1046, 'front': 1773, 'line': 2603, 'facil': 1594, 'record': 3589, 'symbol': 4322, 'unnerv': 4655, 'woke': 4912, 'complet': 898, 'asian': 265, 'rattl': 3552, 'depart': 1186, 'investig': 2341, 'consumpt': 942, 'eat': 1417, 'file': 1669, 'usual': 4690, 'comm': 875, 'avec': 324, 'ser': 3918, 'lmao': 2618, 'retard': 3695, 'understand': 4635, 'resist': 3677, 'antibiot': 196, 'pass': 3210, 'jadin': 2386, 'queue': 3513, 'outsid': 3134, 'airborn': 97, 'yung': 4986, 'lockdown': 2628, 'consid': 932, 'epicent': 1489, 'outbrea': 3122, 'dust': 1399, 'flee': 1699, 'gross': 1928, 'blame': 469, 'serv': 3923, 'restaur': 3689, 'warm': 4807, 'shrink': 3974, 'ancient': 170, 'activ': 38, 'beg': 410, 'beyond': 433, 'steel': 4174, 'car': 653, 'noodl': 2998, 'nigerian': 2974, 'tribun': 4557, 'drag': 1357, 'anxieti': 203, 'saw': 3832, 'app': 217, 'star': 4158, 'observ': 3043, 'gent': 1830, 'red': 3594, 'side': 3985, 'grip': 1926, 'investor': 2342, 'custom': 1074, 'mexican': 2773, 'insid': 2302, 'strategi': 4210, 'seen': 3892, 'swan': 4307, 'london': 2634, 'non': 2995, 'specif': 4110, 'clear': 805, 'peter': 3266, 'oooo': 3087, 'offer': 3056, 'kit': 2482, 'blown': 485, 'commun': 888, 'design': 1202, 'own': 3158, 'applic': 224, 'sta': 4144, 'allay': 126, 'lago': 2518, 'govt': 1900, 'timelin': 4473, 'irish': 2354, 'town': 4519, 'her': 2049, 'count': 1002, 'hesit': 2057, 'phe': 3276, 'statement': 4166, 'fight': 1666, 'khabarhub': 2470, 'cours': 1009, 'pray': 3383, 'jeremi': 2407, 'koala': 2493, 'huanggang': 2153, 'indoor': 2266, 'venu': 4726, 'guangdong': 1936, 'serious': 3922, 'local': 2625, 'celebr': 695, 'cni': 833, 'sold': 4068, 'ye': 4964, 'terribl': 4393, 'brazil': 540, 'remind': 3640, 'publ': 3476, 'ass': 268, 'caution': 685, 'scan': 3838, 'cholera': 767, 'bubon': 582, 'prep': 3396, 'codx': 844, 'diagnost': 1228, 'platform': 3321, 'didn': 1240, 'pre': 3385, 'condit': 914, 'such': 4254, 'diabet': 1225, 'bewar': 432, 'regularli': 3618, 'cannot': 644, 'anger': 176, 'do': 1313, 'nigeria': 2973, 'venezuela': 4722, 'tien': 4463, 'color': 861, 'huawei': 2154, 'woman': 4913, 'hide': 2062, 'franc': 1751, 'brag': 535, 'onlin': 3083, 'march': 2713, 'late': 2535, 'april': 231, 'distract': 1297, 'duh': 1387, 'retreat': 3698, 'appetit': 221, 'growth': 1934, 'macao': 2665, 'philippin': 3279, 'accept': 23, 'appear': 220, 'accid': 25, 'stuck': 4230, 'breakfast': 544, 'singapor': 4007, 'film': 1672, 'contagion': 948, 'channel': 723, 'japanes': 2400, 'level': 2581, 'unclear': 4624, 'decad': 1134, 'biggest': 442, 'load': 2622, 'nonsens': 2997, 'nh': 2967, 'acceler': 22, 'nnvc': 2988, 'bodi': 492, 'texa': 4400, 'sent': 3912, 'andrew': 173, 'dubai': 1382, 'implement': 2228, 'bitcoin': 464, 'plung': 3337, 'profit': 3440, 'loss': 2644, 'ministri': 2807, 'dive': 1304, 'fxstreet': 1796, 'within': 4909, 'vietnam': 4747, 'gear': 1821, 'alongsid': 136, 'breed': 548, 'oil': 3064, 'trader': 4526, 'scotland': 3859, 'four': 1746, 'mention': 2763, 'filipino': 1670, 'guardian': 1940, 'build': 590, 'februari': 1641, 'unpreced': 4658, 'healthi': 2022, 'cold': 852, 'save': 3831, 'nurs': 3030, 'saudi': 3828, 'peop': 3246, 'short': 3964, 'btc': 578, 'replac': 3651, 'northern': 3005, 'ireland': 2353, 'wake': 4793, 'chat': 737, 'economi': 1424, 'canadian': 639, 'prudent': 3470, 'futur': 1793, 'pois': 3346, 'session': 3925, 'remain': 3635, 'sadli': 3795, 'game': 1803, 'freakin': 1756, 'easili': 1414, 'previous': 3412, 'factori': 1598, 'restart': 3688, 'scandal': 3839, 'rumor': 3774, 'dna': 1311, 'react': 3562, 'god': 1872, 'bid': 438, 'disrupt': 1294, 'punish': 3487, 'uighur': 4612, 'muslim': 2889, 'gov': 1894, 'laboratori': 2512, 'done': 1335, 'summer': 4267, 'cha': 711, 'fell': 1649, 'idiot': 2201, 'kung': 2505, 'drill': 1365, 'giant': 1848, 'upcom': 4669, 'ca': 620, 'signal': 3992, 'hongkong': 2120, 'dedic': 1143, 'lightn': 2596, 'vancouv': 4706, 'toronto': 4502, 'tool': 4498, 'fan': 1615, 'vacat': 4696, 'belfast': 417, 'centr': 701, 'mother': 2867, 'angri': 178, 'shake': 3935, 'parasit': 3193, 'feed': 1647, 'shock': 3959, 'collaps': 855, 'teacher': 4363, 'wit': 4906, 'terror': 4396, 'edg': 1426, 'coast': 837, 'refin': 3599, 'output': 3132, 'birthday': 461, 'delay': 1161, 'plastic': 3317, 'tube': 4581, 'stuff': 4235, 'bit': 462, 'funni': 1789, 'counter': 1003, 'cough': 998, 'spell': 4114, 'sign': 3991, 'written': 4943, 'opinion': 3093, 'drip': 1367, 'racism': 3525, 'evid': 1539, 'somewhat': 4080, 'exercis': 1558, 'widen': 4883, 'simpl': 3999, 'conspiraci': 934, 'arabia': 234, 'hiv': 2083, 'inhibitor': 2288, 'inhibit': 2287, 'replic': 3653, 'algo': 116, 'fed': 1644, 'alibaba': 119, 'coffe': 845, 'pressur': 3405, 'deepen': 1146, 'politico': 3352, 'prefer': 3390, 'both': 518, 'provid': 3467, 'repres': 3658, 'colleagu': 856, 'fro': 1770, 'revolt': 3711, 'mail': 2676, 'scottish': 3861, 'indonesia': 2264, 'tend': 4385, 'forget': 1735, 'typic': 4601, 'droplet': 1373, 'que': 3508, 'ano': 186, 'fansign': 1617, 'concert': 910, 'ima': 2212, 'soon': 4086, 'forev': 1733, 'wish': 4905, 'evil': 1540, 'suddenli': 4258, 'disappear': 1266, 'ebola': 1420, 'cont': 943, 'fifth': 1664, 'rush': 3782, 'hi': 2060, 'philli': 3280, 'grant': 1910, 'launch': 2540, 'africa': 72, 'dem': 1171, 'dey': 1221, 'spotlight': 4132, 'earli': 1406, 'owner': 3159, 'bill': 443, 'melinda': 2755, 'gate': 1811, 'french': 1762, 'didnt': 1241, 'fox': 1748, 'bruh': 572, 'documentari': 1318, 'pet': 3265, 'remov': 3642, 'coul': 999, 'dan': 1095, 'although': 145, 'scenario': 3845, 'italian': 2374, 'wall': 4797, 'wisconsin': 4903, 'dalla': 1091, 'cina': 779, 'con': 904, 'aren': 239, 'spray': 4134, 'mild': 2792, 'larg': 2529, 'option': 3100, 'compar': 892, 'curiou': 1068, 'mon': 2841, 'contr': 957, 'date': 1107, 'est': 1511, 'dude': 1385, 'jean': 2403, 'paul': 3229, 'locust': 2629, 'sharp': 3943, 'home': 2106, 'matt': 2731, 'hancock': 1974, 'john': 2423, 'malaysia': 2690, 'near': 2923, 'thu': 4454, 'editori': 1428, 'besid': 427, 'sydney': 4320, 'bushfir': 608, 'smoke': 4049, 'au': 299, 'transmitt': 4541, 'spook': 4129, 'recov': 3591, 'outlin': 3129, 'recommend': 3587, 'instal': 2309, 'anti': 195, 'alleg': 127, 'journalist': 2434, 'graphic': 1912, 'entir': 1482, 'wipe': 4900, 'swear': 4309, 'sit': 4014, 'googl': 1887, 'trynna': 4578, 'justic': 2446, 'illeg': 2208, 'univers': 4648, 'cultur': 1061, 'midst': 2786, 'rat': 3548, 'laugh': 2539, 'surround': 4292, 'sanit': 3818, 'danc': 1096, 'fool': 1719, 'demonstr': 1176, 'reservoir': 3673, 'voic': 4777, 'mirror': 2812, 'insan': 2300, 'financi': 1677, 'rest': 3687, 'worst': 4933, 'newspap': 2962, 'random': 3541, 'comment': 878, 'suck': 4255, 'nsw': 3024, 'engin': 1471, 'houston': 2146, 'vid': 4744, 'often': 3060, 'raw': 3554, 'wonder': 4916, 'huhu': 2160, 'ate': 284, 'stupid': 4239, 'dept': 1193, 'rudi': 3770, 'doc': 1314, 'journal': 2433, 'supposedli': 4281, 'hotel': 2138, 'refus': 3606, 'upend': 4671, 'wasn': 4814, 'iphon': 2349, 'theori': 4419, 'paper': 3185, 'fascin': 1621, 'insight': 2303, 'lyme': 2662, 'attempt': 292, 'zombi': 4996, 'apocalyps': 214, 'qanon': 3496, 'support': 4279, 'vaxxer': 4714, 'frighten': 1769, 'foundat': 1745, 'fund': 1787, 'hat': 1999, 'alien': 120, 'noth': 3011, 'except': 1551, 'congress': 927, 'agenc': 79, 'organi': 3108, 'longest': 2637, 'taal': 4329, 'erupt': 1505, 'seri': 3919, 'earthquak': 1410, 'present': 3401, 'invent': 2339, 'bronchiti': 567, 'mass': 2723, 'brand': 537, 'manag': 2697, 'scratch': 3864, 'valley': 4700, 'those': 4436, 'detail': 1209, 'breakdown': 543, 'dia': 1224, 'buri': 604, 'highest': 2065, 'took': 4497, 'tower': 4517, 'diario': 1233, 'root': 3754, 'season': 3875, 'trial': 4556, 'speak': 4106, 'extra': 1585, 'nhk': 2969, 'notic': 3012, 'healt': 2019, 'pointer': 3345, 'tradit': 4527, 'medicin': 2750, 'eight': 1439, 'fact': 1595, 'antibodi': 197, 'campu': 636, 'safeti': 3799, 'switch': 4319, 'modelo': 2833, 'lo': 2621, 'tokyo': 4486, 'spur': 4139, 'militari': 2795, 'personnel': 3263, 'sneez': 4054, 'finish': 1681, 'faster': 1625, 'yellow': 4969, 'metal': 2770, 'suffer': 4259, 'domin': 1330, 'worldwid': 4927, 'risen': 3733, 'commiss': 882, 'feder': 1645, 'court': 1010, 'secretli': 3884, 'site': 4015, 'throughout': 4449, 'excus': 1555, 'toward': 4516, 'bed': 405, 'crazi': 1025, 'biosafeti': 454, 'kerala': 2466, 'trap': 4544, 'wuh': 4951, 'neighbour': 2937, 'countr': 1005, 'track': 4523, 'receiv': 3581, 'carmak': 660, 'luxuri': 2659, 'jersey': 2410, 'exposur': 1581, 'cb': 688, 'women': 4914, 'race': 3522, 'contai': 949, 'firm': 1686, 'nasdaq': 2909, 'eye': 1588, 'earn': 1408, 'gild': 1850, 'omg': 3076, 'tennesse': 4386, 'undergo': 4631, 'weak': 4825, 'immun': 2221, 'tht': 4453, 'nod': 2991, 'estat': 1514, 'entertain': 1481, 'prey': 3413, 'thousand': 4440, 'unconfirm': 4626, 'decent': 1137, 'cosplay': 992, 'pl': 3306, 'cautiou': 686, 'regardless': 3610, 'calm': 627, 'plu': 3333, 'tanker': 4348, 'crash': 1024, 'spr': 4133, 'discuss': 1275, 'men': 2760, 'anymor': 206, 'embassi': 1453, 'cheat': 740, 'chine': 759, 'hunt': 2171, 'brought': 570, 'memori': 2759, 'epid': 1491, 'dozen': 1355, 'mike': 2789, 'esp': 1508, 'southeast': 4099, 'club': 825, 'lost': 2645, 'cell': 696, 'spike': 4119, 'hyster': 2181, 'nobodi': 2990, 'block': 475, 'road': 3741, 'motor': 2869, 'vehicl': 4719, 'proof': 3450, 'sing': 4006, 'valu': 4701, 'burn': 605, 'half': 1966, 'suppli': 4277, 'flat': 1697, 'disneyland': 1286, 'park': 3199, 'product': 3435, 'unnecessari': 4654, 'neo': 2941, 'shore': 3963, 'lie': 2591, 'desert': 1200, 'patrol': 3226, 'love': 2647, 'wire': 4901, 'whose': 4881, 'tryin': 4576, 'suspicion': 4304, 'surviv': 4295, 'zealand': 4987, 'industri': 2268, 'escap': 1507, 'websit': 4836, 'bunch': 599, 'british': 560, 'resort': 3679, 'saturday': 3827, 'lethal': 2579, 'doorstep': 1341, 'headquart': 2016, 'tire': 4477, 'self': 3897, 'small': 4040, 'chao': 725, 'strike': 4221, 'flood': 1705, 'zika': 4994, 'retweetnew': 3701, 'reduc': 3596, 'disney': 1285, 'temporari': 4381, 'closur': 820, 'yonhap': 4977, 'figur': 1668, 'higher': 2064, 'overnight': 3145, 'list': 2610, 'ifax': 2203, 'retweet': 3700, 'johor': 2425, 'moh': 2838, 'bloodi': 481, 'central': 702, 'rtr': 3766, 'governor': 1899, 'protein': 3460, 'attent': 295, 'instead': 2312, 'repli': 3652, 'necessarili': 2928, 'among': 160, 'kingdom': 2480, 'dose': 1342, 'paracetamol': 3188, 'germ': 1838, 'guidelin': 1946, 'lack': 2514, 'basic': 378, 'implic': 2230, 'epicentr': 1490, 'english': 1473, 'unabl': 4618, 'lower': 2649, 'speed': 4113, 'susp': 4299, 'trigger': 4561, 'debat': 1129, 'magazin': 2671, 'ang': 174, 'talaga': 4343, 'especi': 1509, 'super': 4271, 'volcano': 4779, 'swarm': 4308, 'west': 4859, 'roll': 3748, 'favorit': 1632, 'segment': 3893, 'ongo': 3081, 'organis': 3109, 'distanc': 1296, 'chongq': 768, 'mcdonald': 2737, 'amidst': 159, 'petit': 3267, 'renam': 3643, 'coronavirus': 986, 'stricter': 4220, 'target': 4351, 'curb': 1066, 'rebound': 3577, 'aussi': 308, 'bet': 429, 'yen': 4970, 'everybodi': 1534, 'dnc': 1312, 'him': 2073, 'yang': 4963, 'flew': 1700, 'deceas': 1135, 'ralli': 3534, 'predict': 3389, 'ran': 3540, 'bearish': 397, 'mood': 2851, 'winner': 4898, 'equip': 1499, 'awar': 332, 'yeah': 4966, 'corps': 989, 'left': 2566, 'floor': 1706, 'lesson': 2577, 'energi': 1467, 'zone': 4997, 'battl': 386, 'jazeera': 2402, 'bio': 449, 'weapon': 4830, 'thr': 4441, 'comedi': 871, 'exclus': 1554, 'rose': 3755, 'moment': 2840, 'program': 3441, 'plate': 3319, 'inovio': 2298, 'soar': 4059, 'conven': 963, 'hey': 2058, 'gamer': 1804, 'avail': 323, 'chart': 733, 'weekli': 4844, 'scroll': 3868, 'style': 4240, 'scholar': 3849, 'ontario': 3085, 'effici': 1435, 'solut': 4072, 'sensit': 3911, 'below': 421, 'set': 3926, 'villag': 4753, 'youtub': 4984, 'display': 1288, 'fine': 1679, 'till': 4470, 'homi': 2112, 'complex': 899, 'easier': 1413, 'finland': 1682, 'result': 3692, 'hour': 2143, 'quit': 3518, 'disappoint': 1267, 'refer': 3597, 'epic': 1488, 'invad': 2338, 'glad': 1859, 'sec': 3878, 'midnight': 2785, 'steve': 4180, 'freed': 1758, 'commentari': 879, 'ohh': 3062, 'equiti': 1500, 'standard': 4156, 'everywher': 1538, 'unbeliev': 4619, 'manufactur': 2707, 'destroy': 1207, 'neg': 2932, 'sky': 4025, 'illinoi': 2209, 'hav': 2002, 'rock': 3744, 'school': 3850, 'print': 3419, 'host': 2134, 'outb': 3120, 'deploy': 1189, 'assist': 276, 'shift': 3952, 'approach': 227, 'meme': 2758, 'fun': 1785, 'soldier': 4069, 'duti': 1402, 'regard': 3609, 'experienc': 1568, 'coincid': 848, 'ugh': 4609, 'pace': 3162, 'built': 591, 'hire': 2079, 'camera': 631, 'violat': 4754, 'address': 48, 'hard': 1984, 'hop': 2123, 'princ': 3417, 'charl': 731, 'penc': 3241, 'select': 3896, 'cepi': 705, 'biohazard': 451, 'coverag': 1014, 'clinic': 811, 'rerout': 3667, 'behind': 415, 'upgrad': 4673, 'partial': 3204, 'mumbai': 2886, 'ward': 4804, 'drop': 1372, 'epidemiolog': 1493, 'headlin': 2015, 'young': 4980, 'indic': 2262, 'visitor': 4771, 'temp': 4379, 'incub': 2252, 'parent': 3196, 'reveng': 3705, 'noon': 2999, 'depth': 1194, 'ramif': 3536, 'respir': 3682, 'port': 3365, 'servic': 3924, 'gon': 1880, 'phase': 3274, 'captur': 652, 'enough': 1478, 'resourc': 3680, 'crown': 1047, 'detain': 1210, 'europ': 1522, 'calcul': 623, 'somebodi': 4076, 'plain': 3310, 'bye': 619, 'minnesota': 2808, 'abov': 13, 'cross': 1045, 'britain': 559, 'facemask': 1592, 'beat': 399, 'pirbright': 3301, 'institut': 2313, 'sale': 3804, 'creation': 1027, 'eff': 1432, 'speci': 4107, 'jesu': 2412, 'enforc': 1468, 'greater': 1918, 'stan': 4153, 'nct': 2920, 'repeat': 3649, 'authori': 315, 'mine': 2802, 'write': 4941, 'giv': 1856, 'chlorin': 763, 'dioxid': 1256, 'bleach': 472, 'pure': 3489, 'dream': 1362, 'shoot': 3960, 'briton': 561, 'shown': 3973, 'rail': 3530, 'rip': 3730, 'capabl': 647, 'afraid': 71, 'metro': 2772, 'qualiti': 3503, 'coronavir': 984, 'lancet': 2523, 'wow': 4937, 'everyday': 1535, 'urgent': 4682, 'festiv': 1655, 'bt': 577, 'awesom': 335, 'thingi': 4431, 'kick': 2471, 'onc': 3079, 'reason': 3575, 'boutta': 527, 'class': 800, 'bay': 388, 'buddi': 584, 'honestli': 2116, 'bull': 592, 'presid': 3402, 'throw': 4450, 'isnt': 2366, 'belong': 420, 'circul': 783, 'faculti': 1599, 'imperi': 2226, 'haven': 2004, 'rthk': 3765, 'hype': 2179, 'msm': 2880, 'discharg': 1269, 'dish': 1281, 'version': 4731, 'concept': 907, 'acknowledg': 33, 'pay': 3232, 'respect': 3681, 'huge': 2158, 'dat': 1105, 'cordon': 977, 'allah': 125, 'refresh': 3602, 'field': 1663, 'germani': 1840, 'ravag': 3553, 'boom': 506, 'lord': 2641, 'wildfir': 4891, 'wan': 4799, 'maryland': 2721, 'advic': 62, 'traffic': 4528, 'outlet': 3128, 'exceed': 1549, 'sister': 4013, 'latin': 2538, 'caribbean': 659, 'polit': 3350, 'pain': 3169, 'dare': 1100, 'tag': 4334, 'liar': 2584, 'european': 1523, 'lose': 2642, 'sector': 3887, 'mortgag': 2863, 'ama': 147, 'andrea': 172, 'nbc': 2916, 'stream': 4213, 'cope': 972, 'attract': 297, 'download': 1349, 'mobil': 2829, 'exponenti': 1578, 'foo': 1717, 'baylor': 389, 'attenu': 296, 'hello': 2045, 'hotlin': 2140, 'analysi': 166, 'nigga': 2975, 'madison': 2670, 'director': 1262, 'foun': 1743, 'stress': 4217, 'cuz': 1077, 'ccp': 690, 'donald': 1333, 'surgic': 4289, 'gove': 1895, 'humor': 2166, 'stricken': 4218, 'boyfriend': 532, 'fashion': 1623, 'dom': 1328, 'patriot': 3225, 'mf': 2775, 'meant': 2741, 'african': 73, 'focu': 1712, 'absolut': 16, 'storag': 4200, 'alon': 134, 'ten': 4383, 'bless': 473, 'deat': 1127, 'mil': 2790, 'wor': 4918, 'vitamin': 4774, 'frequent': 1763, 'senat': 3905, 'tom': 4490, 'cotton': 995, 'knew': 2487, 'repeatedli': 3650, 'boss': 515, 'featur': 1639, 'ahem': 88, 'ain': 93, 'pan': 3176, 'sunday': 4269, 'flown': 1709, 'chi': 749, 'rundown': 3777, 'husband': 2177, 'user': 4688, 'final': 1675, 'expos': 1580, 'art': 256, 'cctv': 691, 'network': 2949, 'either': 1441, 'analyst': 167, 'upon': 4675, 'hurri': 2175, 'regist': 3614, 'nearli': 2924, 'deserv': 1201, 'chan': 719, 'meal': 2739, 'finna': 1683, 'foot': 1720, 'su': 4242, 'verifi': 4730, 'part': 3202, 'hmmmm': 2087, 'push': 3491, 'swift': 4314, 'solid': 4070, 'fill': 1671, 'deadliest': 1122, 'victoria': 4743, 'airplan': 102, 'vendor': 4721, 'construct': 938, 'brother': 569, 'tick': 4460, 'unpopular': 4657, 'carolina': 662, 'miss': 2818, 'myself': 2895, 'bureaucrat': 603, 'assess': 271, 'nejm': 2940, 'perspect': 3264, 'melbourn': 2754, 'diaspora': 1235, 'newpap': 2958, 'fake': 1605, 'carrier': 664, 'nervou': 2944, 'circl': 782, 'diagnosi': 1227, 'kind': 2476, 'tbh': 4360, 'selloff': 3901, 'saskatchewan': 3825, 'green': 1921, 'beach': 395, 'horizon': 2126, 'corrupt': 991, 'upfront': 4672, 'extrem': 1587, 'hopkin': 2125, 'hei': 2037, 'fat': 1626, 'ignor': 2205, 'simpson': 4001, 'advanc': 60, 'paranoid': 3192, 'imma': 2217, 'soap': 4058, 'karma': 2452, 'dumb': 1388, 'erad': 1501, 'tune': 4585, 'prior': 3420, 'appeal': 219, 'prayer': 3384, 'armi': 250, 'knowledg': 2491, 'transfer': 4536, 'sens': 3908, 'selfish': 3898, 'bullshit': 597, 'bang': 363, 'henan': 2047, 'kat': 2455, 'invest': 2340, 'strategist': 4211, 'bud': 583, 'older': 3069, 'uncl': 4623, 'fema': 1652, 'propos': 3458, 'law': 2543, 'colorado': 862, 'without': 4910, 'glove': 1866, 'unrol': 4661, 'nak': 2903, 'fiction': 1662, 'gone': 1881, 'bag': 353, 'rid': 3722, 'tru': 4568, 'strong': 4224, 'elimin': 1447, 'stone': 4198, 'window': 4896, 'sour': 4096, 'urg': 4681, 'prison': 3422, 'coat': 838, 'percentag': 3250, 'shatter': 3945, 'safeguard': 3797, 'rich': 3717, 'cycl': 1081, 'particl': 3206, 'plz': 3338, 'necessari': 2927, 'grew': 1924, 'crude': 1049, 'coro': 980, 'ugli': 4610, 'conceal': 905, 'buhari': 589, 'nationwid': 2912, 'leader': 2553, 'earth': 1409, 'lad': 2516, 'proud': 3464, 'spoke': 4124, 'xinjiang': 4960, 'versu': 4732, 'loos': 2640, 'warfar': 4805, 'largest': 2531, 'christian': 773, 'misinform': 2814, 'studio': 4234, 'citywid': 789, 'easi': 1412, 'inject': 2292, 'somehow': 4077, 'alr': 139, 'resolv': 3678, 'anywher': 210, 'unprepar': 4659, 'devast': 1217, 'toilet': 4485, 'ecdc': 1421, 'moot': 2853, 'malaysian': 2691, 'tracker': 4524, 'murder': 2887, 'slump': 4039, 'nuclear': 3025, 'queensland': 3510, 'pile': 3295, 'swing': 4317, 'disagre': 1265, 'proport': 3457, 'biolog': 452, 'liverpool': 2616, 'vick': 4740, 'ish': 2360, 'gut': 1950, 'per': 3248, 'minim': 2805, 'express': 1582, 'certainli': 707, 'stigma': 4185, 'led': 2564, 'whoever': 4878, 'amaz': 148, 'useless': 4687, 'confess': 919, 'lassa': 2533, 'fever': 1656, 'teenag': 4372, 'wayn': 4823, 'ocean': 3049, 'throat': 4447, 'sore': 4088, 'individu': 2263, 'idh': 2200, 'arrang': 252, 'protest': 3461, 'reschedul': 3668, 'viewer': 4749, 'minut': 2810, 'suppos': 4280, 'taught': 4355, 'religion': 3632, 'surfac': 4286, 'outsold': 3135, 'bullish': 596, 'multi': 2883, 'educ': 1429, 'finger': 1680, 'base': 375, 'imagin': 2214, 'gateway': 1812, 'prioriti': 3421, 'homeopath': 2109, 'coverup': 1015, 'specialist': 4109, 'evacu': 1525, 'campaign': 634, 'dress': 1363, 'infograph': 2282, 'fault': 1631, 'occur': 3048, 'guard': 1939, 'nowher': 3022, 'excit': 1552, 'sudden': 4257, 'normal': 3003, 'chair': 713, 'durham': 1398, 'realtim': 3574, 'mere': 2765, 'background': 347, 'angel': 175, 'org': 3106, 'bride': 550, 'vibe': 4737, 'sad': 3793, 'shall': 3936, 'monday': 2842, 'artist': 259, 'schedul': 3847, 'statu': 4169, 'repost': 3657, 'diplomat': 1258, 'perish': 3256, 'haha': 1958, 'inspir': 2306, 'highlight': 2067, 'deadlier': 1121, 'epidemiologist': 1494, 'profession': 3437, 'regim': 3612, 'overview': 3154, 'biologist': 453, 'neck': 2929, 'kayo': 2457, 'genocid': 1828, 'chemic': 744, 'odd': 3051, 'agent': 81, 'beast': 398, 'cup': 1063, 'somewher': 4081, 'broken': 566, 'lowkey': 2651, 'answer': 190, 'faith': 1604, 'evalu': 1527, 'realiti': 3570, 'fir': 1684, 'bali': 360, 'accus': 31, 'subscrib': 4246, 'desper': 1204, 'hotspot': 2142, 'virolog': 4761, 'plaug': 3322, 'dramat': 1358, 'soft': 4064, 'member': 2757, 'exclud': 1553, 'son': 4082, 'accur': 30, 'kindli': 2478, 'charter': 734, 'casualti': 674, 'havoc': 2005, 'languag': 2527, 'incur': 2253, 'agreement': 86, 'war': 4803, 'poor': 3357, 'though': 4438, 'remedi': 3638, 'age': 78, 'experiment': 1569, 'theater': 4411, 'agre': 85, 'digit': 1250, 'hidden': 2061, 'rep': 3647, 'dilig': 1251, 'inhuman': 2289, 'antarctica': 192, 'todat': 4479, 'nebraska': 2925, 'clan': 794, 'radio': 3527, 'par': 3186, 'exact': 1543, 'bigger': 441, 'corner': 979, 'board': 488, 'wil': 4887, 'queen': 3509, 'massiv': 2725, 'alot': 137, 'geopolit': 1834, 'dec': 1133, 'forum': 1741, 'ideal': 2197, 'hmm': 2085, 'concentr': 906, 'camp': 633, 'tortur': 4503, 'thru': 4452, 'ole': 3070, 'outfit': 3127, 'win': 4894, 'censor': 697, 'ateez': 285, 'nih': 2979, 'arizona': 245, 'inappropri': 2239, 'icu': 2194, 'delicaci': 1167, 'presumpt': 3407, 'pod': 3342, 'variant': 4710, 'prone': 3449, 'store': 4201, 'core': 978, 'flaw': 1698, 'strength': 4215, 'compil': 896, 'ambul': 152, 'chief': 752, 'choic': 765, 'recreat': 3593, 'rage': 3528, 'echo': 1422, 'blood': 480, 'histori': 2081, 'materi': 2729, 'clout': 823, 'knock': 2489, 'door': 1339, 'prolli': 3445, 'uhm': 4611, 'aggress': 82, 'space': 4101, 'sat': 3826, 'dev': 1216, 'jama': 2392, 'fiweh': 1692, 'blue': 486, 'reaction': 3563, 'swiftli': 4315, 'lyin': 2661, 'plead': 3328, 'centuri': 703, 'beaten': 400, 'increa': 2248, 'refrain': 3601, 'credibl': 1030, 'laid': 2520, 'commerci': 881, 'dad': 1085, 'abroad': 14, 'recal': 3579, 'daughter': 1108, 'topic': 4500, 'bank': 367, 'tim': 4471, 'appl': 222, 'donat': 1334, 'relief': 3630, 'problem': 3430, 'conveni': 964, 'challeng': 716, 'bottom': 522, 'fate': 1628, 'carbon': 654, 'footprint': 1724, 'tryna': 4577, 'leg': 2568, 'ltimo': 2653, 'moderna': 2836, 'potu': 3374, 'troop': 4566, 'asap': 261, 'upward': 4679, 'heath': 2030, 'smith': 4048, 'tfw': 4402, 'trudeau': 4570, 'liber': 2585, 'anthem': 193, 'audio': 305, 'san': 3813, 'francisco': 1753, 'hurt': 2176, 'edit': 1427, 'crush': 1053, 'certifi': 708, 'wesleyan': 4858, 'consul': 939, 'heat': 2029, 'sunnybrook': 4270, 'titl': 4478, 'feb': 1640, 'opportun': 3094, 'credit': 1031, 'fortun': 1740, 'propaganda': 3451, 'boot': 508, 'deep': 1145, 'algorithm': 117, 'honest': 2115, 'cute': 1076, 'honey': 2117, 'dashboard': 1104, 'allergi': 129, 'vast': 4713, 'plainli': 3311, 'western': 4861, 'screw': 3867, 'tenni': 4387, 'attend': 293, 'seoul': 3915, 'tha': 4403, 'mai': 2675, 'defend': 1152, 'solv': 4073, 'underscor': 4634, 'pictur': 3291, 'internet': 2331, 'senior': 3907, 'healer': 2018, 'genuin': 1832, 'worth': 4934, 'strang': 4209, 'sha': 3932, 'prais': 3380, 'spit': 4122, 'reli': 3627, 'rhino': 3714, 'horn': 2127, 'boner': 503, 'apa': 211, 'ini': 2290, 'breath': 547, 'gen': 1822, 'de': 1116, 'coronoviru': 987, 'pakistani': 3173, 'inter': 2323, 'buse': 606, 'outcom': 3124, 'kuwait': 2507, 'queri': 3511, 'ver': 4727, 'overheard': 3144, 'lemon': 2574, 'tighten': 4466, 'disast': 1268, 'orang': 3102, 'empti': 1463, 'overshadow': 3151, 'depend': 1188, 'match': 2727, 'crypto': 1054, 'binanc': 448, 'pledg': 3330, 'quicker': 3515, 'proven': 3466, 'societi': 4062, 'whistleblow': 4875, 'itv': 2378, 'elderli': 1443, 'kor': 2497, 'eng': 1469, 'sub': 4243, 'swiss': 4318, 'horribl': 2128, 'conserv': 931, 'shouldn': 3969, 'judg': 2439, 'sinophobia': 4011, 'wat': 4817, 'abandon': 2, 'averag': 325, 'abil': 8, 'footbal': 1722, 'sport': 4130, 'singl': 4009, 'xenophob': 4956, 'measl': 2743, 'porn': 3364, 'leagu': 2555, 'uncontrol': 4627, 'modern': 2835, 'academ': 20, 'prob': 3427, 'loan': 2623, 'bacteria': 350, 'tehran': 4373, 'dri': 1364, 'aw': 330, 'homeopathi': 2110, 'perfect': 3251, 'storm': 4203, 'filthi': 1674, 'confid': 920, 'award': 333, 'oth': 3113, 'unleash': 4650, 'adult': 59, 'cast': 673, 'quarter': 3506, 'steal': 4172, 'winter': 4899, 'fulli': 1784, 'tail': 4335, 'taiwanes': 4339, 'weed': 4841, 'minor': 2809, 'dread': 1361, 'stomach': 4197, 'amazon': 149, 'coincident': 849, 'mile': 2793, 'asid': 266, 'presum': 3406, 'unfortun': 4640, 'chemist': 745, 'direct': 1261, 'contagio': 947, 'realiz': 3571, 'divid': 1307, 'amongst': 161, 'curtail': 1071, 'legend': 2570, 'pro': 3425, 'publicli': 3478, 'experi': 1567, 'capac': 648, 'malay': 2689, 'kuala': 2501, 'premier': 3395, 'label': 2511, 'goal': 1870, 'td': 4361, 'father': 1629, 'papa': 3184, 'democrat': 1174, 'imp': 2223, 'rlli': 3738, 'kahit': 2449, 'lysol': 2663, 'doubt': 1345, 'onset': 3084, 'reg': 3608, 'aapl': 1, 'newslett': 2961, 'kept': 2464, 'po': 3341, 'sleep': 4030, 'explod': 1573, 'yea': 4965, 'deliv': 1168, 'truck': 4569, 'comfort': 873, 'tue': 4582, 'district': 1300, 'click': 807, 'seller': 3900, 'sho': 3958, 'fuckin': 1779, 'argu': 242, 'dark': 1101, 'vote': 4784, 'connecticut': 929, 'popular': 3360, 'worsen': 4931, 'ivori': 2381, 'sana': 3814, 'scarier': 3843, 'mea': 2738, 'poll': 3353, 'relax': 3624, 'recoveri': 3592, 'fallout': 1608, 'tesla': 4398, 'bioweapon': 457, 'paus': 3230, 'scariest': 3844, 'increasingli': 2250, 'catastroph': 677, 'phil': 3278, 'jone': 2430, 'wrote': 4945, 'pullback': 3482, 'alcohol': 111, 'instruct': 2314, 'imposs': 2233, 'spend': 4115, 'ctv': 1058, 'aka': 107, 'sensibl': 3910, 'perman': 3257, 'ultim': 4615, 'sto': 4191, 'soo': 4085, 'cinesi': 781, 'choo': 769, 'tear': 4365, 'ga': 1798, 'sake': 3803, 'perform': 3252, 'athlet': 286, 'championship': 718, 'smallpox': 4041, 'destruct': 1208, 'unwel': 4666, 'inner': 2294, 'hypochondriac': 2180, 'nut': 3031, 'franci': 1752, 'bomb': 498, 'robert': 3742, 'method': 2771, 'pak': 3171, 'content': 952, 'intensifi': 2321, 'humbl': 2164, 'hoax': 2091, 'slip': 4035, 'parodi': 3201, 'interact': 2324, 'chest': 748, 'nose': 3007, 'contin': 954, 'frontlin': 1774, 'tariff': 4352, 'hall': 1967, 'upset': 4676, 'weren': 4857, 'stat': 4164, 'doesnt': 1324, 'pulp': 3483, 'lay': 2548, 'tequila': 4390, 'intellig': 2318, 'vicki': 4741, 'drug': 1376, 'massachusett': 2724, 'hmmm': 2086, 'reproduct': 3661, 'immigr': 2219, 'consum': 941, 'role': 3747, 'virginia': 4760, 'cent': 699, 'properti': 3454, 'fyi': 1797, 'ich': 2192, 'da': 1084, 'stfu': 4182, 'michigan': 2779, 'indiana': 2260, 'cooper': 969, 'chen': 746, 'kobe': 2494, 'bryant': 576, 'goa': 1869, 'soda': 4063, 'rout': 3760, 'bioengin': 450, 'abbvi': 3, 'peac': 3234, 'adam': 44, 'biden': 439, 'greatest': 1919, 'basketbal': 379, 'distribut': 1299, 'adh': 49, 'maricopa': 2715, 'tension': 4388, 'outta': 3137, 'shout': 3970, 'qld': 3500, 'girlfriend': 1855, 'job': 2421, 'sweden': 4311, 'nomin': 2994, 'puerto': 3480, 'rico': 3721, 'vega': 4716, 'brink': 556, 'ard': 236, 'couldn': 1001, 'exce': 1548, 'mate': 2728, 'champion': 717, 'airlift': 100, 'sentenc': 3913, 'dampen': 1094, 'pharmaceut': 3271, 'secret': 3882, 'ride': 3724, 'anonym': 187, 'abus': 19, 'schumer': 3851, 'themselv': 4417, 'jimmi': 2416, 'apart': 212, 'discoveri': 1273, 'forest': 1732, 'harder': 1985, 'cytokin': 1083, 'asu': 281, 'feasibl': 1638, 'christma': 774, 'island': 2364, 'silent': 3995, 'millenni': 2797, 'convinc': 966, 'alabama': 109, 'respond': 3685, 'unexpect': 4638, 'recap': 3580, 'card': 655, 'deve': 1218, 'ako': 108, 'fda': 1635, 'approv': 229, 'ftse': 1776, 'master': 2726, 'arrow': 255, 'dip': 1257, 'justin': 2448, 'mess': 2767, 'shun': 3977, 'fragil': 1750, 'civil': 790, 'cool': 968, 'conflict': 924, 'talli': 4345, 'power': 3376, 'cryptocurr': 1055, 'blockchain': 477, 'serio': 3920, 'esta': 1512, 'rajasthan': 3533, 'gianna': 1847, 'goin': 1875, 'chri': 771, 'martenson': 2720, 'bare': 371, 'degre': 1159, 'broke': 565, 'downturn': 1353, 'dun': 1392, 'children': 754, 'conf': 917, 'tragedi': 4530, 'min': 2800, 'lobster': 2624, 'michael': 2778, 'uyghur': 4695, 'appreci': 226, 'roommat': 3753, 'bush': 607, 'tax': 4356, 'collap': 854, 'tiktok': 4468, 'alexa': 114, 'sui': 4261, 'attack': 291, 'translat': 4538, 'steam': 4173, 'factor': 1597, 'influenc': 2277, 'nightli': 2977, 'buzz': 618, 'rocket': 3745, 'usd': 4685, 'mit': 2823, 'nach': 2898, 'yuan': 4985, 'weather': 4833, 'damag': 1092, 'wale': 4795, 'scrambl': 3862, 'evac': 1524, 'strict': 4219, 'virtual': 4763, 'refund': 3605, 'book': 505, 'camel': 630, 'harvard': 1993, 'thermonuclear': 4424, 'hainan': 1963, 'pitch': 3304, 'wikipedia': 4886, 'mideast': 2784, 'nap': 2905, 'coach': 836, 'jew': 2414, 'lmfao': 2619, 'oppress': 3096, 'perhap': 3253, 'anybodi': 205, 'rna': 3740, 'analyz': 168, 'receptor': 3583, 'gene': 1824, 'tough': 4509, 'suicid': 4262, 'brit': 558, 'prof': 3436, 'bord': 509, 'meltdown': 2756, 'fuel': 1780, 'biowarfar': 456, 'facebook': 1591, 'lang': 2526, 'rel': 3621, 'manila': 2702, 'survey': 4294, 'statist': 4168, 'panda': 3178, 'ambassador': 150, 'heartbreak': 2027, 'bloomberg': 482, 'succeed': 4251, 'approx': 230, 'flow': 1708, 'asset': 272, 'canc': 640, 'mongolia': 2846, 'scho': 3848, 'pinpoint': 3299, 'jakarta': 2390, 'teach': 4362, 'joy': 2436, 'sink': 4010, 'hint': 2078, 'autism': 317, 'biotech': 455, 'pharma': 3270, 'forgot': 1736, 'account': 29, 'alright': 141, 'sensex': 3909, 'plummet': 3336, 'loser': 2643, 'sigh': 3989, 'tumbl': 4584, 'distress': 1298, 'ino': 2297, 'dismiss': 1284, 'bolton': 497, 'bombshel': 499, 'republican': 3663, 'hoe': 2094, 'iraq': 2352, 'botswana': 520, 'sight': 3990, 'rubber': 3769, 'mor': 2854, 'cambodia': 628, 'med': 2746, 'wide': 4882, 'emperor': 1459, 'ghanaian': 1844, 'mayor': 2736, 'bangkok': 364, 'ethiopia': 1518, 'hai': 1960, 'aur': 307, 'slap': 4028, 'pero': 3259, 'iii': 2206, 'toddler': 4481, 'dutch': 1400, 'silver': 3996, 'seventh': 3928, 'fals': 1609, 'cau': 681, 'kenyan': 2462, 'essenti': 1510, 'slide': 4032, 'chant': 724, 'politician': 3351, 'xiaomi': 4958, 'introduc': 2336, 'icymi': 2195, 'encourag': 1464, 'bought': 523, 'snapshot': 4053, 'comeback': 870, 'partner': 3209, 'spokesman': 4126, 'femal': 1653, 'angst': 179, 'tran': 4534, 'atom': 289, 'logic': 2631, 'sri': 4143, 'lanka': 2528, 'iron': 2355, 'eeri': 1430, 'quiet': 3517, 'sur': 4284, 'employe': 1462, 'kiwi': 2484, 'strand': 4208, 'optim': 3098, 'vape': 4708, 'snap': 4052, 'pend': 3242, 'stude': 4231, 'eric': 1502, 'mitig': 2824, 'reu': 3702, 'along': 135, 'prepared': 3398, 'justifi': 2447, 'disrespect': 1293, 'charg': 729, 'temporarili': 4382, 'villa': 4752, 'pati': 3222, 'bond': 501, 'arrest': 253, 'activist': 39, 'thorough': 4435, 'ensur': 1479, 'asymptomat': 283, 'brown': 571, 'barri': 372, 'itali': 2372, 'gop': 1888, 'attach': 290, 'auto': 318, 'overreact': 3147, 'stage': 4149, 'liner': 2605, 'sail': 3801, 'ticket': 4461, 'stereotyp': 4178, 'hostil': 2135, 'luck': 2654, 'path': 3219, 'kno': 2488, 'diaper': 1231, 'strengthen': 4216, 'excel': 1550, 'imo': 2222, 'fucker': 1778, 'uni': 4642, 'scam': 3837, 'insta': 2307, 'twice': 4596, 'sentiment': 3914, 'vision': 4769, 'former': 1738, 'log': 2630, 'skip': 4024, 'btw': 579, 'aff': 67, 'shudder': 3976, 'physician': 3287, 'bear': 396, 'spx': 4140, 'hug': 2157, 'foxconn': 1749, 'samsung': 3812, 'lil': 2599, 'ju': 2438, 'incom': 2245, 'evacue': 1526, 'offens': 3055, 'habit': 1954, 'mainstream': 2680, 'crimin': 1037, 'cheaper': 739, 'bother': 519, 'ted': 4369, 'steven': 4181, 'text': 4401, 'elect': 1444, 'heavili': 2034, 'brave': 538, 'broom': 568, 'pregnant': 3392, 'hilari': 2069, 'misconcept': 2813, 'fam': 1611, 'career': 657, 'forefront': 1730, 'cheap': 738, 'jefferson': 2406, 'tota': 4504, 'draconian': 1356, 'ing': 2284, 'commod': 886, 'driven': 1369, 'thehil': 4412, 'cri': 1035, 'shanxi': 3940, 'batch': 381, 'disregard': 1292, 'yield': 4974, 'curv': 1072, 'caucu': 682, 'legal': 2569, 'consequ': 930, 'ship': 3954, 'indianapoli': 2261, 'affair': 68, 'warrant': 4809, 'morgan': 2857, 'plasma': 3316, 'solidar': 4071, 'leak': 2556, 'cincinnati': 780, 'netherland': 2947, 'sustain': 4306, 'hole': 2099, 'asx': 282, 'secondari': 3880, 'panick': 3183, 'shortag': 3965, 'mort': 2861, 'pump': 3485, 'hashtag': 1997, 'bail': 356, 'din': 1252, 'termin': 4392, 'incorrect': 2247, 'helicopt': 2042, 'await': 331, 'disgust': 1280, 'confir': 922, 'pattern': 3228, 'oklahoma': 3067, 'sacrific': 3792, 'rona': 3750, 'troubl': 4567, 'nyc': 3035, 'float': 1704, 'curat': 1065, 'co': 835, 'smartphon': 4043, 'beef': 406, 'florida': 1707, 'scream': 3865, 'spot': 4131, 'gmt': 1867, 'peak': 3235, 'januar': 2397, 'dumbass': 1389, 'copyright': 975, 'holder': 2098, 'independ': 2256, 'signific': 3993, 'cull': 1059, 'row': 3762, 'garbag': 1807, 'stabilis': 4146, 'pussi': 3492, 'deem': 1144, 'contro': 960, 'visa': 4767, 'tripl': 4564, 'nye': 3036, 'absenc': 15, 'plenti': 3331, 'tra': 4521, 'nifti': 2972, 'chastis': 736, 'delhi': 1165, 'rml': 3739, 'pti': 3474, 'bachelor': 344, 'semest': 3902, 'qatar': 3498, 'worl': 4924, 'outbr': 3121, 'chinatown': 758, 'tianjin': 4459, 'simon': 3998, 'rule': 3773, 'bavaria': 387, 'marc': 2712, 'siegel': 3987, 'medium': 2751, 'exampl': 1547, 'unlik': 4652, 'cali': 624, 'spokesperson': 4127, 'iam': 2185, 'lift': 2594, 'stanley': 4157, 'smoker': 4050, 'environ': 1485, 'sam': 3809, 'phan': 3269, 'inde': 2254, 'supermarket': 4273, 'enjoy': 1475, 'mislead': 2817, 'bitter': 466, 'juic': 2440, 'tablet': 4331, 'allegedli': 128, 'shaheen': 3934, 'bagh': 354, 'karona': 2454, 'fit': 1690, 'han': 1973, 'stole': 4195, 'kuch': 2502, 'toh': 4484, 'nahi': 2900, 'straight': 4205, 'cruis': 1051, 'surpass': 4290, 'elder': 1442, 'prophet': 3456, 'nikkei': 2981, 'slam': 4027, 'kenyatta': 2463, 'richard': 3718, 'fkn': 1694, 'wegen': 4845, 'uncomfort': 4625, 'shove': 3971, 'globalist': 1864, 'depopul': 1190, 'agenda': 80, 'mental': 2762, 'tb': 4359, 'asahi': 260, 'debt': 1130, 'jitter': 2418, 'therefor': 4423, 'coron': 981, 'bogu': 494, 're': 3558, 'harsh': 1992, 'bbi': 392, 'tournament': 4514, 'pretend': 3408, 'yearli': 4968, 'netizen': 2948, 'vent': 4724, 'phoenix': 3282, 'mall': 2694, 'benefit': 424, 'expertis': 1571, 'checkpoint': 742, 'singaporean': 4008, 'angl': 177, 'nairobi': 2902, 'wasnt': 4815, 'derail': 1196, 'stabil': 4145, 'mock': 2830, 'driver': 1370, 'slash': 4029, 'veget': 4717, 'jkia': 2419, 'glob': 1862, 'draw': 1360, 'neglig': 2934, 'overtaken': 3153, 'duqu': 1395, 'drove': 1374, 'onboard': 3078, 'bhi': 436, 'forecast': 1729, 'voluntari': 4782, 'oper': 3092, 'seat': 3876, 'arm': 247, 'tent': 4389, 'characterist': 728, 'infec': 2272, 'railway': 3531, 'broader': 564, 'sort': 4090, 'israel': 2369, 'obviou': 3045, 'nowaday': 3021, 'held': 2041, 'goggl': 1874, 'euro': 1521, 'engag': 1470, 'comparison': 893, 'repo': 3654, 'confront': 925, 'domest': 1329, 'rhythm': 3715, 'introvert': 2337, 'sympathi': 4324, 'furiou': 1791, 'danish': 1099, 'flag': 1695, 'turkey': 4587, 'birth': 460, 'cna': 830, 'exagger': 1545, 'spent': 4116, 'dollar': 1327, 'jet': 2413, 'aye': 337, 'ingredi': 2286, 'newark': 2953, 'liberti': 2587, 'cou': 997, 'diego': 1243, 'livestream': 2617, 'midday': 2782, 'slight': 4033, 'bounc': 524, 'glass': 1860, 'ion': 2346, 'parcel': 3194, 'chicken': 751, 'huanan': 2152, 'narr': 2907, 'amount': 162, 'prove': 3465, 'slim': 4034, 'austria': 313, 'badli': 352, 'ryan': 3786, 'airpod': 103, 'accident': 26, 'union': 4644, 'involv': 2345, 'keqiang': 2465, 'survivor': 4296, 'retir': 3697, 'paramed': 3190, 'chain': 712, 'woe': 4911, 'supplier': 4278, 'hike': 2068, 'skin': 4023, 'reluct': 3634, 'mode': 2831, 'zte': 4999, 'telecom': 4375, 'remot': 3641, 'wise': 4904, 'letter': 2580, 'salut': 3808, 'liang': 2583, 'wudong': 4950, 'starbuck': 4159, 'motiv': 2868, 'ceas': 693, 'riot': 3729, 'dean': 1125, 'stockpil': 4193, 'execut': 1556, 'revenu': 3706, 'exot': 1562, 'creativ': 1028, 'adhanom': 50, 'hh': 2059, 'niagara': 2970, 'rank': 3543, 'maker': 2686, 'miami': 2776, 'univ': 4647, 'ohio': 3063, 'descent': 1198, 'bangladesh': 365, 'onto': 3086, 'caa': 621, 'hampshir': 1972, 'hay': 2009, 'der': 1195, 'incid': 2242, 'zimbabw': 4995, 'controversi': 962, 'ting': 4474, 'dawg': 1112, 'labour': 2513, 'dengu': 1177, 'vox': 4786, 'hamper': 1971, 'mandatori': 2700, 'gdp': 1820, 'influx': 2279, 'hella': 2044, 'proactiv': 3426, 'liquid': 2608, 'alli': 130, 'savag': 3830, 'cor': 976, 'project': 3444, 'heavi': 2033, 'vector': 4715, 'overpopul': 3146, 'male': 2692, 'suppress': 4282, 'aviat': 327, 'von': 4783, 'mull': 2882, 'cancer': 642, 'tap': 4349, 'columbia': 863, 'greet': 1923, 'foothold': 1723, 'protocol': 3463, 'neither': 2939, 'manipul': 2703, 'roni': 3751, 'caryn': 668, 'rabin': 3521, 'denis': 1179, 'gradi': 1905, 'birmingham': 459, 'suspici': 4303, 'autocraci': 319, 'explor': 1575, 'apolog': 215, 'cartoon': 667, 'intend': 2319, 'request': 3665, 'funer': 1788, 'rsa': 3764, 'workplac': 4923, 'hill': 2070, 'crack': 1020, 'volunt': 4781, 'respon': 3684, 'water': 4820, 'error': 1504, 'startl': 4162, 'mph': 2878, 'ann': 182, 'colon': 860, 'violenc': 4755, 'azar': 339, 'skeptic': 4021, 'lawrenc': 2545, 'cock': 841, 'ball': 361, 'opposit': 3095, 'journey': 2435, 'mesa': 2766, 'choke': 766, 'fri': 1765, 'dine': 1253, 'manmad': 2706, 'tsunami': 4580, 'hook': 2122, 'aliv': 123, 'newest': 2956, 'irrat': 2356, 'artifici': 258, 'aust': 309, 'sweet': 4313, 'commission': 883, 'regular': 3617, 'housem': 2145, 'riski': 3735, 'grown': 1933, 'hail': 1961, 'breakthrough': 546, 'detroit': 1214, 'reddit': 3595, 'bot': 517, 'instanc': 2310, 'ameripri': 156, 'wah': 4789, 'homeless': 2108, 'deliber': 1166, 'und': 4628, 'inevit': 2269, 'bound': 525, 'pit': 3303, 'moron': 2859, 'realis': 3569, 'kansa': 2451, 'flip': 1703, 'variou': 4712, 'golden': 1877, 'businessman': 610, 'turbul': 4586, 'telework': 4376, 'thou': 4437, 'ruin': 3772, 'manitoba': 2704, 'sauna': 3829, 'rewatch': 3713, 'tong': 4493, 'inactiv': 2237, 'unhealthi': 4641, 'sampl': 3811, 'icao': 2190, 'whistl': 4874, 'discrimin': 1274, 'johnson': 2424, 'downtown': 1352, 'polici': 3349, 'backfir': 346, 'som': 4074, 'underreport': 4633, 'dick': 1236, 'superbowl': 4272, 'valentin': 4698, 'client': 808, 'kudo': 2504, 'bathroom': 383, 'welp': 4853, 'georg': 1835, 'stir': 4190, 'reliabl': 3628, 'sniffl': 4055, 'bust': 611, 'success': 4252, 'punch': 3486, 'zerohedg': 4989, 'peo': 3245, 'bowl': 529, 'darpa': 1102, 'babe': 341, 'debunk': 1131, 'disinform': 1283, 'sushi': 4298, 'hindi': 2076, 'reserv': 3672, 'isra': 2368, 'weight': 4847, 'uae': 4602, 'main': 2677, 'doom': 1337, 'fece': 1643, 'urin': 4683, 'junki': 2443, 'crime': 1036, 'halv': 1969, 'legitim': 2572, 'polic': 3348, 'cow': 1017, 'dung': 1393, 'bubbl': 581, 'convers': 965, 'fascism': 1622, 'alex': 113, 'pharmaci': 3272, 'decreas': 1142, 'migrant': 2788, 'briefli': 552, 'vic': 4738, 'outstrip': 3136, 'hol': 2096, 'refuge': 3604, 'ho': 2088, 'proceed': 3432, 'intent': 2322, 'oddli': 3052, 'indonesian': 2265, 'airway': 106, 'elit': 1448, 'thin': 4429, 'herd': 2052, 'faq': 1618, 'retail': 3694, 'spirit': 4121, 'stall': 4152, 'islam': 2362, 'david': 1109, 'gi': 1846, 'impress': 2234, 'neil': 2938, 'outpac': 3131, 'fiscal': 1688, 'composit': 902, 'bjp': 467, 'utc': 4691, 'homoeopathi': 2113, 'compet': 895, 'thai': 4404, 'adjust': 52, 'lahat': 2519, 'protestor': 3462, 'height': 2038, 'peddl': 3236, 'boat': 491, 'toyota': 4520, 'heal': 2017, 'divert': 1306, 'freedom': 1759, 'movement': 2875, 'armenia': 249, 'rang': 3542, 'fold': 1714, 'mini': 2804, 'pst': 3473, 'sooner': 4087, 'mum': 2885, 'admir': 55, 'stringent': 4223, 'cargo': 658, 'constantli': 936, 'recess': 3584, 'vir': 4758, 'mission': 2819, 'ozzi': 3161, 'cur': 1064, 'runni': 3779, 'hunger': 2170, 'revolut': 3712, 'hum': 2161, 'noticia': 3013, 'promis': 3446, 'diesel': 1244, 'piss': 3302, 'clue': 827, 'oblig': 3042, 'circumst': 784, 'overtak': 3152, 'outrag': 3133, 'addit': 47, 'jerk': 2408, 'abuja': 18, 'disabl': 1264, 'cash': 670, 'grab': 1902, 'afternoon': 75, 'modi': 2837, 'gaug': 1814, 'kati': 2456, 'csse': 1056, 'jack': 2383, 'procedur': 3431, 'vile': 4751, 'grace': 1903, 'chip': 762, 'mix': 2825, 'panel': 3180, 'bacteri': 349, 'dsh': 1379, 'unmask': 4653, 'jonathan': 2429, 'ahhh': 89, 'hobbi': 2092, 'pool': 3356, 'closer': 819, 'eminem': 1456, 'defeat': 1150, 'cheer': 743, 'permiss': 3258, 'tsla': 4579, 'deliveri': 1169, 'comput': 903, 'riversid': 3737, 'wrapup': 4939, 'monger': 2845, 'fellow': 1650, 'remark': 3636, 'ridicul': 3725, 'ferri': 1654, 'roger': 3746, 'heartland': 2028, 'opec': 3089, 'hammer': 1970, 'billionair': 446, 'moon': 2852, 'compel': 894, 'sudan': 4256, 'hunter': 2172, 'profil': 3439, 'gentl': 1831, 'mistaken': 2821, 'tragic': 4531, 'truli': 4572, 'neem': 2931, 'tree': 4550, 'sheet': 3949, 'clarifi': 798, 'graduat': 1906, 'ayurveda': 338, 'joanna': 2420, 'jedrzejczyk': 2404, 'zhang': 4990, 'weili': 4848, 'wed': 4837, 'cst': 1057, 'novarti': 3017, 'tara': 4350, 'subject': 4244, 'undetect': 4637, 'advers': 61, 'stolen': 4196, 'scrutini': 3869, 'chairman': 714, 'powel': 3375, 'web': 4834, 'spin': 4120, 'di': 1223, 'sichuan': 3982, 'wave': 4821, 'nba': 2915, 'clorox': 817, 'fauci': 1630, 'ufc': 4607, 'assur': 279, 'lebanes': 2561, 'dirti': 1263, 'hash': 1995, 'failur': 1602, 'unfair': 4639, 'stigmat': 4186, 'thug': 4455, 'church': 777, 'cowork': 1018, 'seiz': 3894, 'amzn': 164, 'psa': 3471, 'pub': 3475, 'santa': 3822, 'clara': 796, 'assign': 275, 'guinea': 1947, 'dynam': 1404, 'jose': 2432, 'sex': 3930, 'elizabeth': 1449, 'warren': 4810, 'shutter': 3980, 'joe': 2422, 'invit': 2344, 'sponsor': 4128, 'scmp': 3856, 'haram': 1983, 'hoarder': 2090, 'progress': 3442, 'primari': 3415, 'denounc': 1182, 'arkansa': 246, 'rio': 3728, 'aboard': 11, 'rant': 3544, 'xinhua': 4959, 'getti': 1842, 'larri': 2532, 'kudlow': 2503, 'overwatch': 3155, 'dummi': 1390, 'criticis': 1042, 'patch': 3217, 'dictatorship': 1238, 'makeshift': 2687, 'england': 1472, 'theme': 4416, 'plug': 3334, 'antivir': 201, 'nhc': 2968, 'raci': 3523, 'pla': 3307, 'dua': 1380, 'hashmi': 1996, 'deepli': 1148, 'yahoo': 4961, 'lung': 2657, 'ident': 2198, 'gym': 1952, 'tweak': 4593, 'tigerair': 4464, 'structur': 4228, 'soccer': 4060, 'appoint': 225, 'departur': 1187, 'stz': 4241, 'tie': 4462, 'presidenti': 3403, 'complac': 897, 'eme': 1454, 'concer': 908, 'imho': 2216, 'interfer': 2326, 'newsfe': 2960, 'diari': 1232, 'jabas': 2382, 'harm': 1989, 'ponder': 3355, 'intermedi': 2328, 'prohibit': 3443, 'eaten': 1418, 'currenc': 1069, 'breach': 541, 'sig': 3988, 'shirt': 3956, 'code': 843, 'dutert': 1401, 'focus': 1713, 'vein': 4720, 'elev': 1446, 'formula': 1739, 'jerom': 2409, 'peep': 3238, 'forward': 1742, 'lawmak': 2544, 'portion': 3366, 'pilot': 3297, 'hea': 2012, 'buffett': 587, 'tribut': 4558, 'electron': 1445, 'plea': 3327, 'cyril': 1082, 'spare': 4104, 'aight': 91, 'insert': 2301, 'ofw': 3061, 'fia': 1660, 'symp': 4323, 'pen': 3239, 'friendli': 1768, 'wealth': 4829, 'handshak': 1977, 'taipei': 4337, 'fair': 1603, 'plant': 3315, 'atm': 288, 'toler': 4488, 'utopia': 4693, 'hun': 2167, 'sen': 3904, 'quot': 3520, 'bath': 382, 'incred': 2251, 'nintendo': 2983, 'king': 2479, 'overcom': 3142, 'coz': 1019, 'ukrain': 4613, 'insur': 2315, 'batter': 384, 'evolut': 1541, 'herbal': 2051, 'sci': 3852, 'plot': 3332, 'incompet': 2246, 'maintain': 2681, 'ethiopian': 1519, 'equatori': 1498, 'tencent': 4384, 'improv': 2235, 'tayong': 4358, 'collabor': 853, 'epi': 1487, 'upbeat': 4668, 'boi': 495, 'gather': 1813, 'ross': 3756, 'hker': 2084, 'pin': 3298, 'knee': 2486, 'injuri': 2293, 'disembark': 1279, 'vet': 4734, 'zoonot': 4998, 'dig': 1248, 'shipment': 3955, 'dublin': 1383, 'asean': 262, 'indefinit': 2255, 'trail': 4532, 'creator': 1029, 'necess': 2926, 'dock': 1315, 'slowdown': 4037, 'treasuri': 4547, 'smart': 4042, 'jail': 2389, 'wildcard': 4890, 'expo': 1577, 'openli': 3091, 'wilbur': 4888, 'amer': 153, 'abo': 10, 'access': 24, 'cape': 649, 'bulli': 594, 'divis': 1308, 'sting': 4189, 'complic': 900, 'governm': 1898, 'dalio': 1090, 'bhai': 435, 'uncertain': 4620, 'mistak': 2820, 'leftist': 2567, 'reloc': 3633, 'owe': 3157, 'compon': 901, 'abeg': 6, 'balanc': 358, 'deficit': 1156, 'underground': 4632, 'eastern': 1416, 'collect': 857, 'huoshenshan': 2173, 'freight': 1761, 'ben': 423, 'honda': 2114, 'facial': 1593, 'reviv': 3710, 'blanket': 470, 'submit': 4245, 'wang': 4800, 'chernobyl': 747, 'geniu': 1827, 'richest': 3719, 'beauti': 401, 'wirral': 4902, 'emotet': 1458, 'malwar': 2695, 'disproportion': 1290, 'nope': 3000, 'thick': 4428, 'ian': 2186, 'whilst': 4873, 'therapi': 4421, 'patholog': 3221, 'sea': 3871, 'sacramento': 3791, 'notch': 3009, 'bori': 513, 'dump': 1391, 'automak': 320, 'shopper': 3962, 'teen': 4371, 'nco': 2917, 'confin': 921, 'jam': 2391, 'acut': 42, 'altern': 144, 'obsess': 3044, 'automat': 321, 'tedro': 4370, 'pheic': 3277, 'todo': 4482, 'purchas': 3488, 'international': 2330, 'hardest': 1986, 'tembisa': 4378, 'revers': 3707, 'def': 1149, 'instagram': 2308, 'ami': 157, 'dictat': 1237, 'bin': 447, 'immin': 2220, 'pat': 3216, 'commut': 890, 'appropri': 228, 'gay': 1816, 'jacket': 2384, 'pmi': 3339, 'territori': 4395, 'italia': 2373, 'carson': 666, 'infant': 2271, 'hoffman': 2095, 'enorm': 1477, 'coronavi': 983, 'epoch': 1497, 'reput': 3664, 'theorist': 4420, 'salud': 3807, 'egg': 1437, 'brilliant': 554, 'commit': 884, 'mill': 2796, 'iowa': 2347, 'nobel': 2989, 'constant': 935, 'histor': 2080, 'explos': 1576, 'fwd': 1794, 'royal': 3763, 'tout': 4515, 'cremat': 1033, 'disclos': 1271, 'bno': 487, 'vice': 4739, 'honolulu': 2121, 'hawaii': 2006, 'shine': 3953, 'palm': 3175, 'rome': 3749, 'spoken': 4125, 'grandma': 1908, 'norcal': 3002, 'unintend': 4643, 'hardwar': 1987, 'defin': 1157, 'hr': 2150, 'para': 3187, 'pardon': 3195, 'speech': 4112, 'ninth': 2984, 'baidu': 355, 'transcript': 4535, 'telebrief': 4374, 'newsroom': 2963, 'supervis': 4275, 'tight': 4465, 'resili': 3676, 'steadi': 4171, 'subway': 4250, 'he': 2011, 'outlook': 3130, 'volatil': 4778, 'karnataka': 2453, 'peril': 3254, 'met': 2769, 'democraci': 1173, 'divers': 1305, 'klm': 2485, 'uber': 4605, 'humanitarian': 2163, 'carniv': 661, 'secreci': 3881, 'dinner': 1254, 'pacif': 3163, 'paranoia': 3191, 'context': 953, 'denmark': 1180, 'apologis': 216, 'auckland': 300, 'fix': 1693, 'dodgi': 1321, 'diseasolog': 1278, 'costa': 994, 'outcri': 3125, 'overcrowd': 3143, 'milan': 2791, 'bangladeshi': 366, 'wala': 4794, 'diamond': 1230, 'dealer': 1124, 'lan': 2522, 'mute': 2892, 'niqaab': 2985, 'aircraft': 99, 'miner': 2803, 'dupe': 1394, 'clamp': 792, 'holocaust': 2104, 'myanmar': 2894, 'so': 4057, 'cunt': 1062, 'frog': 1771, 'goldman': 1878, 'uganda': 4608, 'analys': 165, 'manchest': 2698, 'tori': 4501, 'clo': 814, 'annual': 185, 'upload': 4674, 'condol': 915, 'wee': 4840, 'newcastl': 2955, 'vessel': 4733, 'sb': 3834, 'gender': 1823, 'furi': 1790, 'cyber': 1078, 'mp': 2877, 'requir': 3666, 'skyrocket': 4026, 'boast': 490, 'vulner': 4787, 'pull': 3481, 'bow': 528, 'machin': 2667, 'monetari': 2843, 'majeur': 2682, 'dot': 1343, 'produc': 3434, 'parliament': 3200, 'omen': 3075, 'unveil': 4665, 'devic': 1220, 'hain': 1962, 'copper': 974, 'striker': 4222, 'isa': 2359, 'pharmacist': 3273, 'ordinari': 3104, 'roundup': 3759, 'grade': 1904, 'gratitud': 1914, 'webinar': 4835, 'rub': 3768, 'pasteur': 3214, 'weaken': 4826, 'hoard': 2089, 'bac': 343, 'argument': 243, 'sidelin': 3986, 'mein': 2753, 'delta': 1170, 'downsid': 1351, 'basel': 376, 'fallen': 1607, 'cybercrimin': 1079, 'violent': 4756, 'brawl': 539, 'max': 2733, 'traffick': 4529, 'june': 2442, 'commenc': 877, 'neutral': 2950, 'seizur': 3895, 'uniqu': 4645, 'condemn': 913, 'cap': 646, 'aud': 302, 'pentagon': 3244, 'sti': 4183, 'passport': 3212, 'crook': 1043, 'lng': 2620, 'nor': 3001, 'trillion': 4562, 'straw': 4212, 'blogger': 479, 'drone': 1371, 'sach': 3788, 'la': 2509, 'hockey': 2093, 'bulletin': 593, 'rwanda': 3785, 'urdu': 4680, 'intraven': 2335, 'cocain': 840, 'ighalo': 2204, 'epl': 1496, 'consult': 940, 'stare': 4160, 'lpga': 2652, 'clown': 824, 'horseman': 2132, 'nvda': 3033, 'ual': 4603, 'gilead': 1851, 'sou': 4092, 'squad': 4141, 'mar': 2709, 'remdesivir': 3637, 'graph': 1911, 'crippl': 1038, 'comi': 874, 'august': 306, 'ukrainian': 4614, 'ibio': 2188, 'carrington': 665, 'ethic': 1517, 'breakout': 545, 'anthoni': 194, 'harvest': 1994, 'brutal': 575, 'rea': 3559, 'stabl': 4147, 'lane': 2525, 'catalyst': 676, 'guarante': 1938, 'walmart': 4798, 'spain': 4102, 'myth': 2897, 'turner': 4590, 'elsewher': 1451, 'utd': 4692, 'durat': 1396, 'thrown': 4451, 'repatri': 3648, 'stoke': 4194, 'lend': 2575, 'rescu': 3669, 'cathol': 680, 'numer': 3029, 'thei': 4413, 'oust': 3118, 'vide': 4745, 'recognit': 3586, 'hed': 2035, 'jackson': 2385, 'mainli': 2679, 'overblown': 3141, 'larger': 2530, 'cop': 971, 'verg': 4728, 'hindu': 2077, 'mahasabha': 2674, 'overrid': 3148, 'spice': 4118, 'dox': 1354, 'audac': 303, 'hero': 2055, 'fujifilm': 1782, 'georgia': 1836, 'hinder': 2075, 'joint': 2427, 'una': 4617, 'physic': 3286, 'taxi': 4357, 'qanta': 3497, 'mice': 2777, 'ram': 3535, 'cottrel': 996, 'licens': 2589, 'casino': 672, 'percent': 3249, 'basi': 377, 'reader': 3565, 'bore': 511, 'safest': 3798, 'cruel': 1050, 'admin': 53, 'ub': 4604, 'infectio': 2275, 'paddington': 3166, 'microscop': 2780, 'aerosol': 65, 'filter': 1673, 'succumb': 4253, 'ski': 4022, 'clueless': 828, 'eater': 1419, 'kim': 2475, 'jong': 2431, 'paint': 3170, 'size': 4020, 'attribut': 298, 'aim': 92, 'courag': 1008, 'malaria': 2688, 'lurk': 2658, 'paid': 3168, 'bc': 393, 'coil': 847, 'innov': 2296, 'withdraw': 4908, 'plastron': 3318, 'anp': 189, 'pee': 3237, 'captain': 651, 'censorship': 698, 'writer': 4942, 'defens': 1153, 'peng': 3243, 'usman': 4689, 'div': 1303, 'tini': 4475, 'pastor': 3215, 'rick': 3720, 'rare': 3547, 'patron': 3227, 'golf': 1879, 'obama': 3040, 'cfo': 709, 'famou': 1614, 'ken': 2460, 'eighth': 1440, 'hunan': 2168, 'symptomat': 4326, 'relationship': 3623, 'accommod': 27, 'weaponis': 4831, 'tank': 4347, 'malici': 2693, 'oop': 3088, 'exhibit': 1559, 'fade': 1600, 'deleg': 1163, 'reflect': 3600, 'cluck': 826, 'nepali': 2943, 'mandat': 2699, 'umass': 4616, 'dod': 1319, 'defi': 1154, 'admiss': 56, 'persecut': 3260, 'abe': 5, 'vow': 4785, 'combin': 868, 'lackland': 2515, 'afb': 66, 'enemi': 1466, 'wreak': 4940, 'ivanka': 2379, 'coffin': 846, 'itbp': 2375, 'resign': 3675, 'wore': 4920, 'horrifi': 2130, 'lick': 2590, 'til': 4469, 'sin': 4003, 'inflat': 2276, 'shandong': 3938, 'pax': 3231, 'brunt': 574, 'librari': 2588, 'dea': 1117, 'worship': 4932, 'saint': 3802, 'rampal': 3538, 'maharaj': 2673, 'wuha': 4952, 'sant': 3821, 'vegetarian': 4718, 'shelter': 3950, 'avian': 326, 'soul': 4093, 'section': 3886, 'hater': 2001, 'scold': 3857, 'command': 876, 'vardhan': 4709, 'patien': 3223, 'nytim': 3038, 'exempt': 1557, 'mixtur': 2826, 'suprem': 4283, 'ove': 3138, 'buffet': 586, 'acquir': 34, 'cloud': 822, 'prankster': 3382, 'backlash': 348, 'illustr': 2211, 'lea': 2551, 'negoti': 2935, 'barcelona': 370, 'properli': 3453, 'wine': 4897, 'defenc': 1151, 'difficulti': 1247, 'toni': 4494, 'blockad': 476, 'isi': 2361, 'hair': 1964, 'cocktail': 842, 'relev': 3626, 'smile': 4047, 'prank': 3381, 'le': 2550, 'chinoi': 761, 'shed': 3948, 'overal': 3140, 'kuo': 2506, 'contribut': 959, 'marat': 2710, 'ru': 3767, 'financ': 1676, 'in': 2236, 'netanyahu': 2945, 'dettol': 1215, 'supp': 4276, 'jerusalem': 2411, 'salt': 3806, 'candid': 643, 'behavior': 414, 'resum': 3693, 'softwar': 4066, 'penalti': 3240, 'pshuttl': 3472, 'asthma': 280, 'newswatch': 2964, 'conting': 955, 'marri': 2719, 'pummel': 3484, 'subsid': 4247, 'hacker': 1956, 'flush': 1711, 'reopen': 3646, 'lectur': 2563, 'ick': 2193, 'opt': 3097, 'lombardi': 2633, 'dji': 1310, 'valuabl': 4702, 'groceri': 1927, 'refut': 3607, 'wast': 4816, 'campbel': 635, 'daddi': 1086, 'alter': 143, 'diarrhea': 1234, 'refil': 3598, 'prejudic': 3393, 'dh': 1222, 'bia': 437, 'preciou': 3388, 'auction': 301, 'stung': 4237, 'menac': 2761, 'crucial': 1048, 'comedian': 872, 'jagdish': 2387, 'dahil': 1088, 'expel': 1566, 'suitabl': 4264, 'vlog': 4776, 'fabric': 1589, 'cloth': 821, 'eventu': 1531, 'terrorist': 4397, 'vital': 4773, 'clip': 813, 'chase': 735, 'scum': 3870, 'ring': 3727, 'offset': 3059, 'reject': 3620, 'handwash': 1978, 'garlic': 1808, 'van': 4705, 'mkt': 2827, 'particip': 3205, 'enhanc': 1474, 'instant': 2311, 'regret': 3615, 'realm': 3573, 'vivo': 4775, 'moral': 2855, 'paywal': 3233, 'iceberg': 2191, 'efficaci': 1434, 'bolster': 496, 'lauri': 2542, 'garrett': 1809, 'sabotag': 3787, 'intens': 2320, 'quiz': 3519, 'impl': 2227, 'digest': 1249, 'insist': 2304, 'suscept': 4297, 'zhejiang': 4991, 'irrespons': 2358, 'enlist': 1476, 'linger': 2606, 'forb': 1726, 'shrug': 3975, 'shortcom': 3966, 'defici': 1155, 'boyl': 533, 'grand': 1907, 'prix': 3424, 'sweat': 4310, 'irrefut': 2357, 'mountain': 2871, 'gordon': 1889, 'gottlieb': 1893, 'doorknob': 1340, 'whic': 4870, 'ditch': 1302, 'nudg': 3026, 'gambl': 1802, 'valid': 4699, 'belgian': 418, 'travi': 4546, 'restructur': 3691, 'baba': 340, 'chloroquin': 764, 'envis': 1486, 'scrap': 3863, 'daniel': 1098, 'clarif': 797, 'hoteli': 2139, 'cfr': 710, 'geograph': 1833, 'phish': 3281, 'guo': 1949, 'siberia': 3981, 'nokia': 2993, 'lauren': 2541, 'spoil': 4123, 'cola': 851, 'westjet': 4862, 'guest': 1943, 'hyundai': 2184, 'extens': 1584, 'glo': 1861, 'acc': 21, 'hom': 2105, 'gazett': 1818, 'sotu': 4091, 'blew': 474, 'reassur': 3576, 'nike': 2980, 'exploit': 1574, 'colloid': 859, 'princess': 3418, 'linear': 2604, 'caveat': 687, 'arirang': 244, 'clap': 795, 'takeout': 4342, 'yokohama': 4976, 'mwc': 2893, 'anchor': 169, 'sanitis': 3819, 'invis': 2343, 'banker': 368, 'taint': 4336, 'probe': 3429, 'unpaid': 4656, 'cybersecur': 1080, 'dutton': 1403, 'preprint': 3399, 'maria': 2714, 'jpi': 2437, 'tricki': 4560, 'adida': 51, 'liquidit': 2609, 'bundl': 600, 'soni': 4084, 'shadow': 3933, 'disput': 1291, 'math': 2730, 'paralys': 3189, 'putin': 3494, 'newborn': 2954, 'octob': 3050, 'bustl': 613, 'christ': 772, 'mankind': 2705, 'exp': 1563, 'watc': 4818, 'boredom': 512, 'gift': 1849, 'gasolin': 1810, 'flash': 1696, 'drugmak': 1377, 'pizza': 3305, 'kfc': 2469, 'actor': 40, 'ambit': 151, 'worldomet': 4926, 'leishenshan': 2573, 'chariti': 730, 'buyer': 617, 'balconi': 359, 'concis': 911, 'youngest': 4981, 'weld': 4851, 'trevor': 4554, 'twist': 4597, 'squar': 4142, 'crackdown': 1021, 'korl': 2500, 'cointelegraph': 850, 'assembl': 270, 'emiss': 1457, 'utterli': 4694, 'dent': 1183, 'rippl': 3731, 'airbu': 98, 'sanofi': 3820, 'noguchi': 2992, 'disciplin': 1270, 'miramar': 2811, 'hometown': 2111, 'relianc': 3629, 'brighton': 553, 'dispos': 1289, 'persist': 3261, 'ibm': 2189, 'wenliang': 4854, 'narrow': 2908, 'libertarian': 2586, 'batteri': 385, 'pall': 3174, 'wind': 4895, 'authoritarian': 316, 'ethnic': 1520, 'kzn': 2508, 'startup': 4163, 'diagram': 1229, 'outer': 3126, 'sack': 3789, 'reprimand': 3660, 'chapter': 727, 'blower': 484, 'chaotic': 726, 'fifti': 1665, 'frank': 1754, 'xbox': 4955, 'greek': 1920, 'antonio': 202, 'oscar': 3112, 'runner': 3778, 'archiv': 235, 'asf': 263, 'claw': 802, 'infodem': 2281, 'darwin': 1103, 'bayonn': 390, 'crop': 1044, 'nea': 2922, 'novacyt': 3016, 'dir': 1259, 'burberri': 602, 'pangolin': 3181, 'norwegian': 3006, 'honeymoon': 2118, 'mourn': 2872, 'sixti': 4019, 'chronic': 775, 'fewer': 1658, 'scali': 3836, 'stun': 4236, 'ericsson': 1503, 'thur': 4457, 'heap': 2023, 'airshow': 105, 'dire': 1260, 'quar': 3504, 'coma': 866, 'valuat': 4703, 'twenti': 4595, 'up': 4667, 'wartim': 4811, 'downgrad': 1348, 'arent': 241, 'alipay': 122, 'milton': 2799, 'keyn': 2468, 'turkish': 4588, 'trenton': 4553, 'plummer': 3335, 'fecal': 1642, 'inanim': 2238, 'nvidia': 3034, 'notifi': 3014, 'presenc': 3400, 'vanish': 4707, 'homeland': 2107, 'sander': 3816, 'conclud': 912, 'majorca': 2684, 'deterior': 1212, 'chalet': 715, 'mac': 2664, 'boarder': 489, 'odion': 3053, 'assault': 269, 'alp': 138, 'pigeon': 3294, 'trick': 4559, 'veteran': 4735, 'neglect': 2933, 'heatmap': 2032, 'column': 864, 'bite': 465, 'arena': 240, 'repriev': 3659, 'audienc': 304, 'ucsd': 4606, 'fxi': 1795, 'lifelin': 2593, 'forcibl': 1728, 'nazi': 2914, 'medicar': 2749, 'innoc': 2295, 'limbo': 2600, 'propheci': 3455, 'bone': 502, 'dental': 1184, 'clampdown': 793, 'stagger': 4150, 'chronicl': 776, 'ncp': 2919, 'oli': 3071, 'harmattan': 1990, 'rice': 3716, 'rcl': 3557, 'ciara': 778, 'qiushi': 3499, 'algeria': 115, 'gucci': 1941, 'pore': 3362, 'omiss': 3077, 'hotpot': 2141, 'cld': 803, 'stephen': 4177, 'derang': 1197, 'revis': 3709, 'kitchen': 2483, 'visibl': 4768, 'tottenham': 4506, 'dele': 1162, 'exil': 1560, 'phd': 3275, 'dissid': 1295, 'hsbc': 2151, 'lowest': 2650, 'creepi': 1032, 'troll': 4565, 'volkswagen': 4780, 'weakest': 4828, 'grandmoth': 1909, 'airbnb': 96, 'rival': 3736, 'cisco': 785, 'strait': 4207, 'nissan': 2986, 'gsma': 1935, 'sussex': 4305, 'gp': 1901, 'attende': 294, 'grim': 1925, 'bump': 598, 'oregon': 3105, 'sarcast': 3824, 'steril': 4179, 'clobber': 815, 'drown': 1375, 'domino': 1331, 'button': 615, 'renown': 3645, 'upsid': 4677, 'crunch': 1052, 'hal': 1965, 'sanction': 3815, 'dub': 1381, 'mistakenli': 2822, 'pipe': 3300, 'intel': 2317, 'criteria': 1040, 'playstat': 3326, 'nzd': 3039, 'thrive': 4446, 'lyft': 2660, 'refug': 3603, 'holland': 2102, 'covid': 1016, 'plateau': 3320, 'turnout': 4591, 'wea': 4824, 'uncheck': 4622, 'alloc': 131, 'falun': 1610, 'gong': 1882, 'practition': 3379, 'galaxi': 1801, 'achiev': 32, 'fbi': 1634, 'soften': 4065, 'hilton': 2072, 'sym': 4321, 'gabriel': 1799, 'bartiromo': 374, 'sane': 3817, 'stagnat': 4151, 'dispers': 1287, 'db': 1115, 'dioces': 1255, 'buster': 612, 'shave': 3946, 'mislabel': 2816, 'inquiri': 2299, 'intraday': 2334, 'deeper': 1147, 'oxford': 3160, 'towi': 4518, 'fianc': 1661, 'duck': 1384, 'westerdam': 4860, 'hove': 2147, 'asshat': 273, 'bakker': 357, 'demonet': 1175, 'daegu': 1087, 'ointment': 3065, 'lawyer': 2546, 'pariah': 3198, 'hotb': 2137, 'militar': 2794, 'napa': 2906, 'renew': 3644, 'tame': 4346, 'wakayama': 4792, 'rural': 3781, 'mln': 2828, 'stormzi': 4204, 'stimulu': 4188, 'kai': 2450, 'strongli': 4226, 'rugbi': 3771, 'sadhguru': 3794, 'misjudg': 2815, 'charli': 732, 'denni': 1181, 'dentist': 1185, 'runway': 3780, 'violet': 4757, 'koontz': 2496, 'imf': 2215, 'reconsid': 3588, 'religi': 3631, 'rescuer': 3670, 'jamia': 2395, 'gaze': 1817, 'reinfect': 3619, 'tighter': 4467, 'valv': 4704, 'graviti': 1916, 'lew': 2582, 'olowski': 3072, 'entranc': 1483, 'giraff': 1853, 'contactless': 945, 'pickup': 3290, 'hawk': 2008, 'gang': 1805, 'georgieva': 1837, 'marathon': 2711, 'heist': 2040, 'cameroon': 632, 'ventur': 4725, 'awhil': 336, 'autoshow': 322, 'agnp': 83, 'hawaiian': 2007, 'recount': 3590, 'ipad': 2348, 'liu': 2614, 'zhime': 4992, 'rec': 3578, 'brunei': 573, 'roughli': 3757, 'quarterli': 3507, 'salli': 3805, 'abel': 7, 'chanel': 721, 'wuchang': 4949, 'reac': 3560, 'ora': 3101, 'cusp': 1073, 'antimalari': 200, 'diy': 1309, 'msc': 2879, 'jaguar': 2388, 'rover': 3761, 'bullion': 595, 'suitcas': 4265, 'magu': 2672, 'omaha': 3074, 'riddl': 3723, 'petri': 3268, 'efcc': 1431, 'lcc': 2549, 'casi': 671, 'inciner': 2243, 'qom': 3501, 'cult': 1060, 'goog': 1886, 'iata': 2187, 'sacr': 3790, 'gdc': 1819, 'sect': 3885, 'humboldt': 2165, 'hurl': 2174, 'uptick': 4678, 'clash': 799, 'lebanon': 2562, 'overrul': 3149, 'hyun': 2183, 'raid': 3529, 'reagent': 3567, 'avigan': 328, 'tremend': 4551, 'apc': 213, 'coca': 839, 'fayos': 1633, 'tutt': 4592, 'bungl': 601, 'untrac': 4663, 'anniston': 183, 'giorgio': 1852, 'armani': 248, 'venic': 4723}\n"
     ]
    }
   ],
   "source": [
    "print(tfidf_vect.vocabulary_)"
   ]
  },
  {
   "cell_type": "code",
   "execution_count": 77,
   "id": "34d3c6ea",
   "metadata": {},
   "outputs": [],
   "source": [
    "from sklearn.svm import SVC\n",
    "from sklearn.metrics import accuracy_score\n",
    "from sklearn.metrics import ConfusionMatrixDisplay,classification_report\n",
    "from sklearn.preprocessing import LabelBinarizer"
   ]
  },
  {
   "cell_type": "code",
   "execution_count": 78,
   "id": "58c7a268",
   "metadata": {},
   "outputs": [
    {
     "data": {
      "text/plain": [
       "SVC(kernel='linear', probability=True)"
      ]
     },
     "execution_count": 78,
     "metadata": {},
     "output_type": "execute_result"
    }
   ],
   "source": [
    "svm_model = SVC(probability = True, kernel = 'linear')\n",
    "svm_model.fit(X_train_tfidf, y_train )"
   ]
  },
  {
   "cell_type": "code",
   "execution_count": 80,
   "id": "1f7d819f",
   "metadata": {},
   "outputs": [
    {
     "data": {
      "text/html": [
       "<div>\n",
       "<style scoped>\n",
       "    .dataframe tbody tr th:only-of-type {\n",
       "        vertical-align: middle;\n",
       "    }\n",
       "\n",
       "    .dataframe tbody tr th {\n",
       "        vertical-align: top;\n",
       "    }\n",
       "\n",
       "    .dataframe thead th {\n",
       "        text-align: right;\n",
       "    }\n",
       "</style>\n",
       "<table border=\"1\" class=\"dataframe\">\n",
       "  <thead>\n",
       "    <tr style=\"text-align: right;\">\n",
       "      <th></th>\n",
       "      <th>Tweet</th>\n",
       "      <th>Label</th>\n",
       "    </tr>\n",
       "  </thead>\n",
       "  <tbody>\n",
       "    <tr>\n",
       "      <th>8225</th>\n",
       "      <td>dutert like welcom all chines especi corona vi...</td>\n",
       "      <td>neu</td>\n",
       "    </tr>\n",
       "    <tr>\n",
       "      <th>10794</th>\n",
       "      <td>inform state the infect novel coronaviru ncov ...</td>\n",
       "      <td>neu</td>\n",
       "    </tr>\n",
       "    <tr>\n",
       "      <th>9163</th>\n",
       "      <td>coronaviru updat pandem</td>\n",
       "      <td>neu</td>\n",
       "    </tr>\n",
       "    <tr>\n",
       "      <th>26591</th>\n",
       "      <td>more than healthcar personnel china infect wit...</td>\n",
       "      <td>pos</td>\n",
       "    </tr>\n",
       "    <tr>\n",
       "      <th>6631</th>\n",
       "      <td>brent recoup china viru angst fed speak play m...</td>\n",
       "      <td>neu</td>\n",
       "    </tr>\n",
       "    <tr>\n",
       "      <th>...</th>\n",
       "      <td>...</td>\n",
       "      <td>...</td>\n",
       "    </tr>\n",
       "    <tr>\n",
       "      <th>21914</th>\n",
       "      <td>unit panic bought striker and are now tell him...</td>\n",
       "      <td>neu</td>\n",
       "    </tr>\n",
       "    <tr>\n",
       "      <th>17453</th>\n",
       "      <td></td>\n",
       "      <td>neu</td>\n",
       "    </tr>\n",
       "    <tr>\n",
       "      <th>20344</th>\n",
       "      <td>nzd usd technic bia bearish dow jone brush off...</td>\n",
       "      <td>neu</td>\n",
       "    </tr>\n",
       "    <tr>\n",
       "      <th>1878</th>\n",
       "      <td>sound like someth you catch drink beer spring ...</td>\n",
       "      <td>neu</td>\n",
       "    </tr>\n",
       "    <tr>\n",
       "      <th>6465</th>\n",
       "      <td>updat beij report new case pneumonia from the ...</td>\n",
       "      <td>neu</td>\n",
       "    </tr>\n",
       "  </tbody>\n",
       "</table>\n",
       "<p>9000 rows × 2 columns</p>\n",
       "</div>"
      ],
      "text/plain": [
       "                                                   Tweet Label\n",
       "8225   dutert like welcom all chines especi corona vi...   neu\n",
       "10794  inform state the infect novel coronaviru ncov ...   neu\n",
       "9163                             coronaviru updat pandem   neu\n",
       "26591  more than healthcar personnel china infect wit...   pos\n",
       "6631   brent recoup china viru angst fed speak play m...   neu\n",
       "...                                                  ...   ...\n",
       "21914  unit panic bought striker and are now tell him...   neu\n",
       "17453                                                      neu\n",
       "20344  nzd usd technic bia bearish dow jone brush off...   neu\n",
       "1878   sound like someth you catch drink beer spring ...   neu\n",
       "6465   updat beij report new case pneumonia from the ...   neu\n",
       "\n",
       "[9000 rows x 2 columns]"
      ]
     },
     "execution_count": 80,
     "metadata": {},
     "output_type": "execute_result"
    }
   ],
   "source": [
    "svm_predictions = svm_model.predict(X_test_tfidf)\n",
    "Predicted_data = pd.DataFrame()\n",
    "Predicted_data['Tweet'] = X_test\n",
    "Predicted_data['Label'] = svm_predictions\n",
    "Predicted_data"
   ]
  },
  {
   "cell_type": "code",
   "execution_count": 81,
   "id": "28fc3909",
   "metadata": {},
   "outputs": [
    {
     "data": {
      "text/plain": [
       "neu    7346\n",
       "neg    1264\n",
       "pos     390\n",
       "Name: Label, dtype: int64"
      ]
     },
     "execution_count": 81,
     "metadata": {},
     "output_type": "execute_result"
    }
   ],
   "source": [
    "Predicted_data['Label'].value_counts()\n"
   ]
  },
  {
   "cell_type": "code",
   "execution_count": 83,
   "id": "6116d2c7",
   "metadata": {},
   "outputs": [
    {
     "data": {
      "text/plain": [
       "88.82222222222222"
      ]
     },
     "execution_count": 83,
     "metadata": {},
     "output_type": "execute_result"
    }
   ],
   "source": [
    "svm_accuracy = accuracy_score(svm_predictions, y_test)*100\n",
    "svm_accuracy"
   ]
  },
  {
   "cell_type": "code",
   "execution_count": 84,
   "id": "547443ce",
   "metadata": {},
   "outputs": [
    {
     "name": "stdout",
     "output_type": "stream",
     "text": [
      "Classification Report:\n",
      "              precision    recall  f1-score   support\n",
      "\n",
      "         neg       0.87      0.69      0.77      1591\n",
      "         neu       0.90      0.96      0.93      6828\n",
      "         pos       0.78      0.52      0.63       581\n",
      "\n",
      "    accuracy                           0.89      9000\n",
      "   macro avg       0.85      0.73      0.78      9000\n",
      "weighted avg       0.88      0.89      0.88      9000\n",
      "\n"
     ]
    }
   ],
   "source": [
    "print(\"Classification Report:\")\n",
    "print(classification_report(y_test, svm_predictions))"
   ]
  },
  {
   "cell_type": "code",
   "execution_count": null,
   "id": "c3e83ba6",
   "metadata": {},
   "outputs": [],
   "source": []
  }
 ],
 "metadata": {
  "kernelspec": {
   "display_name": "Python 3 (ipykernel)",
   "language": "python",
   "name": "python3"
  },
  "language_info": {
   "codemirror_mode": {
    "name": "ipython",
    "version": 3
   },
   "file_extension": ".py",
   "mimetype": "text/x-python",
   "name": "python",
   "nbconvert_exporter": "python",
   "pygments_lexer": "ipython3",
   "version": "3.9.7"
  }
 },
 "nbformat": 4,
 "nbformat_minor": 5
}
